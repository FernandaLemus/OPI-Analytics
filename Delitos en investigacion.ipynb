{
 "cells": [
  {
   "cell_type": "code",
   "execution_count": 1,
   "metadata": {},
   "outputs": [],
   "source": [
    "import pandas as pd"
   ]
  },
  {
   "cell_type": "code",
   "execution_count": 2,
   "metadata": {},
   "outputs": [],
   "source": [
    "carpetas_investigacion = pd.read_csv('carpetas-de-investigacion-pgj-cdmx.csv', sep = ';') #leemos los datos"
   ]
  },
  {
   "cell_type": "markdown",
   "metadata": {},
   "source": [
    "# Rápida exploración de datos"
   ]
  },
  {
   "cell_type": "markdown",
   "metadata": {},
   "source": [
    "### Para asegurar la calidad de los datos verificaría cuántos y cuáles campos tienen datos faltantes, la consistencia de la notacion (es decir que el valor de las variables esté escrito siempre de la misma manera, que todos los valores se presenten en mayusculas o minusculas, cuidado con los acentos), que los valores que toman las variables sean válidos (ej: que  la variable estado no tome valores como Col. escuadron), que las coordenadas tengan sentido."
   ]
  },
  {
   "cell_type": "code",
   "execution_count": 3,
   "metadata": {},
   "outputs": [
    {
     "data": {
      "text/plain": [
       "Index(['Año', 'Mes', 'Alcaldía', 'Categoría de delito', 'Delito', 'Agencia',\n",
       "       'Unidad de investigación', 'Fecha inicio', 'Fiscalía', 'Calle1',\n",
       "       'Calle2', 'Colonia', 'Latitud', 'Longitud', 'Mes y año', 'Geopoint'],\n",
       "      dtype='object')"
      ]
     },
     "execution_count": 3,
     "metadata": {},
     "output_type": "execute_result"
    }
   ],
   "source": [
    "carpetas_investigacion.columns #vemos las columnas de la tabla"
   ]
  },
  {
   "cell_type": "code",
   "execution_count": 4,
   "metadata": {},
   "outputs": [
    {
     "data": {
      "text/plain": [
       "Año                          int64\n",
       "Mes                         object\n",
       "Alcaldía                    object\n",
       "Categoría de delito         object\n",
       "Delito                      object\n",
       "Agencia                     object\n",
       "Unidad de investigación     object\n",
       "Fecha inicio                object\n",
       "Fiscalía                    object\n",
       "Calle1                      object\n",
       "Calle2                      object\n",
       "Colonia                     object\n",
       "Latitud                    float64\n",
       "Longitud                   float64\n",
       "Mes y año                   object\n",
       "Geopoint                    object\n",
       "dtype: object"
      ]
     },
     "execution_count": 4,
     "metadata": {},
     "output_type": "execute_result"
    }
   ],
   "source": [
    "carpetas_investigacion.dtypes #los tipos de datos en cada columna (casi todos son object)"
   ]
  },
  {
   "cell_type": "code",
   "execution_count": 5,
   "metadata": {},
   "outputs": [
    {
     "data": {
      "text/plain": [
       "(702922, 16)"
      ]
     },
     "execution_count": 5,
     "metadata": {},
     "output_type": "execute_result"
    }
   ],
   "source": [
    "carpetas_investigacion.shape #las dimensiones de la tabla (numero de observaciones,numero de columnas)"
   ]
  },
  {
   "cell_type": "code",
   "execution_count": 6,
   "metadata": {},
   "outputs": [
    {
     "data": {
      "text/html": [
       "<div>\n",
       "<style scoped>\n",
       "    .dataframe tbody tr th:only-of-type {\n",
       "        vertical-align: middle;\n",
       "    }\n",
       "\n",
       "    .dataframe tbody tr th {\n",
       "        vertical-align: top;\n",
       "    }\n",
       "\n",
       "    .dataframe thead th {\n",
       "        text-align: right;\n",
       "    }\n",
       "</style>\n",
       "<table border=\"1\" class=\"dataframe\">\n",
       "  <thead>\n",
       "    <tr style=\"text-align: right;\">\n",
       "      <th></th>\n",
       "      <th>Año</th>\n",
       "      <th>Mes</th>\n",
       "      <th>Alcaldía</th>\n",
       "      <th>Categoría de delito</th>\n",
       "      <th>Delito</th>\n",
       "      <th>Agencia</th>\n",
       "      <th>Unidad de investigación</th>\n",
       "      <th>Fecha inicio</th>\n",
       "      <th>Fiscalía</th>\n",
       "      <th>Calle1</th>\n",
       "      <th>Calle2</th>\n",
       "      <th>Colonia</th>\n",
       "      <th>Latitud</th>\n",
       "      <th>Longitud</th>\n",
       "      <th>Mes y año</th>\n",
       "      <th>Geopoint</th>\n",
       "    </tr>\n",
       "  </thead>\n",
       "  <tbody>\n",
       "    <tr>\n",
       "      <th>0</th>\n",
       "      <td>2016</td>\n",
       "      <td>Mayo</td>\n",
       "      <td>CUAUHTEMOC</td>\n",
       "      <td>HECHO NO DELICTIVO</td>\n",
       "      <td>DENUNCIA DE HECHOS</td>\n",
       "      <td>FDS-6</td>\n",
       "      <td>T3</td>\n",
       "      <td>2016-05-01 00:55:30</td>\n",
       "      <td>INVESTIGACIÓN PARA LA ATENCIÓN DE DELITOS SEXU...</td>\n",
       "      <td>CASA HABITACION</td>\n",
       "      <td>VERTIZ 1329 DEPTO 7</td>\n",
       "      <td>DOCTORES</td>\n",
       "      <td>19.419659</td>\n",
       "      <td>-99.147374</td>\n",
       "      <td>2016-05</td>\n",
       "      <td>19.4196589998, -99.147374</td>\n",
       "    </tr>\n",
       "    <tr>\n",
       "      <th>1</th>\n",
       "      <td>2016</td>\n",
       "      <td>Mayo</td>\n",
       "      <td>ALVARO OBREGON</td>\n",
       "      <td>ROBO DE VEHÍCULO CON Y SIN VIOLENCIA</td>\n",
       "      <td>ROBO DE VEHICULO DE SERVICIO PARTICULAR SIN VI...</td>\n",
       "      <td>AO-4</td>\n",
       "      <td>T3</td>\n",
       "      <td>2016-05-01 01:26:31</td>\n",
       "      <td>INVESTIGACIÓN EN ÁLVARO OBREGÓN</td>\n",
       "      <td>5 DE MAYO (DATOS REPORTE 74)</td>\n",
       "      <td>GUADALUPE HIDALGO (DATOS REPORTE 74)</td>\n",
       "      <td>MERCED GÓMEZ</td>\n",
       "      <td>19.365347</td>\n",
       "      <td>-99.204310</td>\n",
       "      <td>2016-05</td>\n",
       "      <td>19.3653469998, -99.20431</td>\n",
       "    </tr>\n",
       "    <tr>\n",
       "      <th>2</th>\n",
       "      <td>2016</td>\n",
       "      <td>Mayo</td>\n",
       "      <td>ALVARO OBREGON</td>\n",
       "      <td>DELITO DE BAJO IMPACTO</td>\n",
       "      <td>LESIONES CULPOSAS POR TRANSITO VEHICULAR EN CO...</td>\n",
       "      <td>AO-3</td>\n",
       "      <td>UI-3CD</td>\n",
       "      <td>2016-05-01 01:44:36</td>\n",
       "      <td>INVESTIGACIÓN EN ÁLVARO OBREGÓN</td>\n",
       "      <td>PROLONGACION ROSA BLANCA Y CALLE CENTRAL</td>\n",
       "      <td>NaN</td>\n",
       "      <td>ALFONSO XIII</td>\n",
       "      <td>19.375611</td>\n",
       "      <td>-99.199248</td>\n",
       "      <td>2016-05</td>\n",
       "      <td>19.3756109998, -99.199248</td>\n",
       "    </tr>\n",
       "  </tbody>\n",
       "</table>\n",
       "</div>"
      ],
      "text/plain": [
       "    Año   Mes        Alcaldía                   Categoría de delito  \\\n",
       "0  2016  Mayo      CUAUHTEMOC                    HECHO NO DELICTIVO   \n",
       "1  2016  Mayo  ALVARO OBREGON  ROBO DE VEHÍCULO CON Y SIN VIOLENCIA   \n",
       "2  2016  Mayo  ALVARO OBREGON                DELITO DE BAJO IMPACTO   \n",
       "\n",
       "                                              Delito Agencia  \\\n",
       "0                                 DENUNCIA DE HECHOS   FDS-6   \n",
       "1  ROBO DE VEHICULO DE SERVICIO PARTICULAR SIN VI...    AO-4   \n",
       "2  LESIONES CULPOSAS POR TRANSITO VEHICULAR EN CO...    AO-3   \n",
       "\n",
       "  Unidad de investigación         Fecha inicio  \\\n",
       "0                      T3  2016-05-01 00:55:30   \n",
       "1                      T3  2016-05-01 01:26:31   \n",
       "2                  UI-3CD  2016-05-01 01:44:36   \n",
       "\n",
       "                                            Fiscalía  \\\n",
       "0  INVESTIGACIÓN PARA LA ATENCIÓN DE DELITOS SEXU...   \n",
       "1                    INVESTIGACIÓN EN ÁLVARO OBREGÓN   \n",
       "2                    INVESTIGACIÓN EN ÁLVARO OBREGÓN   \n",
       "\n",
       "                                     Calle1  \\\n",
       "0                           CASA HABITACION   \n",
       "1              5 DE MAYO (DATOS REPORTE 74)   \n",
       "2  PROLONGACION ROSA BLANCA Y CALLE CENTRAL   \n",
       "\n",
       "                                 Calle2       Colonia    Latitud   Longitud  \\\n",
       "0                   VERTIZ 1329 DEPTO 7      DOCTORES  19.419659 -99.147374   \n",
       "1  GUADALUPE HIDALGO (DATOS REPORTE 74)  MERCED GÓMEZ  19.365347 -99.204310   \n",
       "2                                   NaN  ALFONSO XIII  19.375611 -99.199248   \n",
       "\n",
       "  Mes y año                   Geopoint  \n",
       "0   2016-05  19.4196589998, -99.147374  \n",
       "1   2016-05   19.3653469998, -99.20431  \n",
       "2   2016-05  19.3756109998, -99.199248  "
      ]
     },
     "execution_count": 6,
     "metadata": {},
     "output_type": "execute_result"
    }
   ],
   "source": [
    "#aqui podemos observa que en la columna mes y Año tiene dos datos, sería más conveniente tenerlos por separado y \n",
    "#en tipo int . De igual manera con la Fecha de inicio, tiene tres datos juntos. \n",
    "carpetas_investigacion.head(3)"
   ]
  },
  {
   "cell_type": "code",
   "execution_count": 7,
   "metadata": {},
   "outputs": [
    {
     "data": {
      "text/plain": [
       "(2016, 2019)"
      ]
     },
     "execution_count": 7,
     "metadata": {},
     "output_type": "execute_result"
    }
   ],
   "source": [
    "carpetas_investigacion.Año.min(), carpetas_investigacion.Año.max() #periodo comprendido entre años"
   ]
  },
  {
   "cell_type": "code",
   "execution_count": 8,
   "metadata": {},
   "outputs": [
    {
     "data": {
      "text/plain": [
       "array(['Mayo', 'Enero', 'Noviembre', 'Abril', 'Febrero', 'Diciembre',\n",
       "       'Marzo', 'Septiembre', 'Octubre', 'Julio', 'Agosto', 'Junio'],\n",
       "      dtype=object)"
      ]
     },
     "execution_count": 8,
     "metadata": {},
     "output_type": "execute_result"
    }
   ],
   "source": [
    "carpetas_investigacion[carpetas_investigacion['Año'] == 2016].Mes.unique() #verificar desde que mes del 2016"
   ]
  },
  {
   "cell_type": "code",
   "execution_count": 9,
   "metadata": {},
   "outputs": [
    {
     "data": {
      "text/plain": [
       "array(['Enero'], dtype=object)"
      ]
     },
     "execution_count": 9,
     "metadata": {},
     "output_type": "execute_result"
    }
   ],
   "source": [
    "carpetas_investigacion[carpetas_investigacion['Año'] == 2019].Mes.unique() #verificar desde que mes del 2019"
   ]
  },
  {
   "cell_type": "markdown",
   "metadata": {},
   "source": [
    "#### Los datos comprenden el periodo enero 2016 - enero 2019"
   ]
  },
  {
   "cell_type": "markdown",
   "metadata": {},
   "source": [
    "# Tipos de delitos "
   ]
  },
  {
   "cell_type": "code",
   "execution_count": 10,
   "metadata": {},
   "outputs": [],
   "source": [
    "tipos_delitos_CDMX = carpetas_investigacion.groupby('Categoría de delito', as_index = False).count()"
   ]
  },
  {
   "cell_type": "code",
   "execution_count": 11,
   "metadata": {},
   "outputs": [
    {
     "data": {
      "text/html": [
       "<div>\n",
       "<style scoped>\n",
       "    .dataframe tbody tr th:only-of-type {\n",
       "        vertical-align: middle;\n",
       "    }\n",
       "\n",
       "    .dataframe tbody tr th {\n",
       "        vertical-align: top;\n",
       "    }\n",
       "\n",
       "    .dataframe thead th {\n",
       "        text-align: right;\n",
       "    }\n",
       "</style>\n",
       "<table border=\"1\" class=\"dataframe\">\n",
       "  <thead>\n",
       "    <tr style=\"text-align: right;\">\n",
       "      <th></th>\n",
       "      <th>Categoría de delito</th>\n",
       "      <th>Año</th>\n",
       "      <th>Mes</th>\n",
       "      <th>Alcaldía</th>\n",
       "      <th>Delito</th>\n",
       "      <th>Agencia</th>\n",
       "      <th>Unidad de investigación</th>\n",
       "      <th>Fecha inicio</th>\n",
       "      <th>Fiscalía</th>\n",
       "      <th>Calle1</th>\n",
       "      <th>Calle2</th>\n",
       "      <th>Colonia</th>\n",
       "      <th>Latitud</th>\n",
       "      <th>Longitud</th>\n",
       "      <th>Mes y año</th>\n",
       "      <th>Geopoint</th>\n",
       "    </tr>\n",
       "  </thead>\n",
       "  <tbody>\n",
       "    <tr>\n",
       "      <th>0</th>\n",
       "      <td>DELITO DE BAJO IMPACTO</td>\n",
       "      <td>551984</td>\n",
       "      <td>551984</td>\n",
       "      <td>551400</td>\n",
       "      <td>551984</td>\n",
       "      <td>551984</td>\n",
       "      <td>551984</td>\n",
       "      <td>551984</td>\n",
       "      <td>551984</td>\n",
       "      <td>550697</td>\n",
       "      <td>215922</td>\n",
       "      <td>535500</td>\n",
       "      <td>536140</td>\n",
       "      <td>536140</td>\n",
       "      <td>551984</td>\n",
       "      <td>536140</td>\n",
       "    </tr>\n",
       "    <tr>\n",
       "      <th>1</th>\n",
       "      <td>HECHO NO DELICTIVO</td>\n",
       "      <td>51034</td>\n",
       "      <td>51034</td>\n",
       "      <td>50747</td>\n",
       "      <td>51034</td>\n",
       "      <td>51034</td>\n",
       "      <td>51034</td>\n",
       "      <td>51034</td>\n",
       "      <td>51034</td>\n",
       "      <td>50833</td>\n",
       "      <td>14691</td>\n",
       "      <td>45828</td>\n",
       "      <td>45931</td>\n",
       "      <td>45931</td>\n",
       "      <td>51034</td>\n",
       "      <td>45931</td>\n",
       "    </tr>\n",
       "    <tr>\n",
       "      <th>2</th>\n",
       "      <td>HOMICIDIO DOLOSO</td>\n",
       "      <td>3848</td>\n",
       "      <td>3848</td>\n",
       "      <td>3805</td>\n",
       "      <td>3848</td>\n",
       "      <td>3848</td>\n",
       "      <td>3848</td>\n",
       "      <td>3848</td>\n",
       "      <td>3848</td>\n",
       "      <td>3825</td>\n",
       "      <td>2432</td>\n",
       "      <td>3216</td>\n",
       "      <td>3218</td>\n",
       "      <td>3218</td>\n",
       "      <td>3848</td>\n",
       "      <td>3218</td>\n",
       "    </tr>\n",
       "    <tr>\n",
       "      <th>3</th>\n",
       "      <td>LESIONES DOLOSAS POR DISPARO DE ARMA DE FUEGO</td>\n",
       "      <td>6102</td>\n",
       "      <td>6102</td>\n",
       "      <td>6071</td>\n",
       "      <td>6102</td>\n",
       "      <td>6102</td>\n",
       "      <td>6102</td>\n",
       "      <td>6102</td>\n",
       "      <td>6102</td>\n",
       "      <td>5670</td>\n",
       "      <td>3826</td>\n",
       "      <td>2679</td>\n",
       "      <td>2681</td>\n",
       "      <td>2681</td>\n",
       "      <td>6102</td>\n",
       "      <td>2681</td>\n",
       "    </tr>\n",
       "    <tr>\n",
       "      <th>4</th>\n",
       "      <td>ROBO A CASA HABITACIÓN CON VIOLENCIA</td>\n",
       "      <td>1515</td>\n",
       "      <td>1515</td>\n",
       "      <td>1515</td>\n",
       "      <td>1515</td>\n",
       "      <td>1515</td>\n",
       "      <td>1515</td>\n",
       "      <td>1515</td>\n",
       "      <td>1515</td>\n",
       "      <td>1512</td>\n",
       "      <td>639</td>\n",
       "      <td>1510</td>\n",
       "      <td>1510</td>\n",
       "      <td>1510</td>\n",
       "      <td>1515</td>\n",
       "      <td>1510</td>\n",
       "    </tr>\n",
       "  </tbody>\n",
       "</table>\n",
       "</div>"
      ],
      "text/plain": [
       "                             Categoría de delito     Año     Mes  Alcaldía  \\\n",
       "0                         DELITO DE BAJO IMPACTO  551984  551984    551400   \n",
       "1                             HECHO NO DELICTIVO   51034   51034     50747   \n",
       "2                               HOMICIDIO DOLOSO    3848    3848      3805   \n",
       "3  LESIONES DOLOSAS POR DISPARO DE ARMA DE FUEGO    6102    6102      6071   \n",
       "4           ROBO A CASA HABITACIÓN CON VIOLENCIA    1515    1515      1515   \n",
       "\n",
       "   Delito  Agencia  Unidad de investigación  Fecha inicio  Fiscalía  Calle1  \\\n",
       "0  551984   551984                   551984        551984    551984  550697   \n",
       "1   51034    51034                    51034         51034     51034   50833   \n",
       "2    3848     3848                     3848          3848      3848    3825   \n",
       "3    6102     6102                     6102          6102      6102    5670   \n",
       "4    1515     1515                     1515          1515      1515    1512   \n",
       "\n",
       "   Calle2  Colonia  Latitud  Longitud  Mes y año  Geopoint  \n",
       "0  215922   535500   536140    536140     551984    536140  \n",
       "1   14691    45828    45931     45931      51034     45931  \n",
       "2    2432     3216     3218      3218       3848      3218  \n",
       "3    3826     2679     2681      2681       6102      2681  \n",
       "4     639     1510     1510      1510       1515      1510  "
      ]
     },
     "execution_count": 11,
     "metadata": {},
     "output_type": "execute_result"
    }
   ],
   "source": [
    "#aqui se puede observar que faltan datos en algunos registros, en particular referentes a la ubicación\n",
    "tipos_delitos_CDMX.head(5) "
   ]
  },
  {
   "cell_type": "code",
   "execution_count": 12,
   "metadata": {},
   "outputs": [
    {
     "data": {
      "text/plain": [
       "0         False\n",
       "1         False\n",
       "2         False\n",
       "3         False\n",
       "4         False\n",
       "5         False\n",
       "6         False\n",
       "7          True\n",
       "8         False\n",
       "9         False\n",
       "10         True\n",
       "11        False\n",
       "12        False\n",
       "13         True\n",
       "14        False\n",
       "15        False\n",
       "16        False\n",
       "17        False\n",
       "18        False\n",
       "19        False\n",
       "20        False\n",
       "21        False\n",
       "22        False\n",
       "23        False\n",
       "24        False\n",
       "25        False\n",
       "26        False\n",
       "27        False\n",
       "28        False\n",
       "29        False\n",
       "          ...  \n",
       "702892    False\n",
       "702893    False\n",
       "702894    False\n",
       "702895    False\n",
       "702896    False\n",
       "702897     True\n",
       "702898    False\n",
       "702899     True\n",
       "702900     True\n",
       "702901    False\n",
       "702902    False\n",
       "702903    False\n",
       "702904    False\n",
       "702905    False\n",
       "702906    False\n",
       "702907    False\n",
       "702908    False\n",
       "702909    False\n",
       "702910    False\n",
       "702911    False\n",
       "702912    False\n",
       "702913    False\n",
       "702914    False\n",
       "702915    False\n",
       "702916    False\n",
       "702917    False\n",
       "702918    False\n",
       "702919    False\n",
       "702920    False\n",
       "702921    False\n",
       "Name: Latitud, Length: 702922, dtype: bool"
      ]
     },
     "execution_count": 12,
     "metadata": {},
     "output_type": "execute_result"
    }
   ],
   "source": [
    "carpetas_investigacion.Latitud.isnull() #varios registros que no tienen latitud ni longitud\n"
   ]
  },
  {
   "cell_type": "code",
   "execution_count": 13,
   "metadata": {},
   "outputs": [
    {
     "data": {
      "text/html": [
       "<div>\n",
       "<style scoped>\n",
       "    .dataframe tbody tr th:only-of-type {\n",
       "        vertical-align: middle;\n",
       "    }\n",
       "\n",
       "    .dataframe tbody tr th {\n",
       "        vertical-align: top;\n",
       "    }\n",
       "\n",
       "    .dataframe thead th {\n",
       "        text-align: right;\n",
       "    }\n",
       "</style>\n",
       "<table border=\"1\" class=\"dataframe\">\n",
       "  <thead>\n",
       "    <tr style=\"text-align: right;\">\n",
       "      <th></th>\n",
       "      <th>Año</th>\n",
       "      <th>Mes</th>\n",
       "      <th>Alcaldía</th>\n",
       "      <th>Categoría de delito</th>\n",
       "      <th>Delito</th>\n",
       "      <th>Agencia</th>\n",
       "      <th>Unidad de investigación</th>\n",
       "      <th>Fecha inicio</th>\n",
       "      <th>Fiscalía</th>\n",
       "      <th>Calle1</th>\n",
       "      <th>Calle2</th>\n",
       "      <th>Colonia</th>\n",
       "      <th>Latitud</th>\n",
       "      <th>Longitud</th>\n",
       "      <th>Mes y año</th>\n",
       "      <th>Geopoint</th>\n",
       "    </tr>\n",
       "  </thead>\n",
       "  <tbody>\n",
       "    <tr>\n",
       "      <th>7</th>\n",
       "      <td>2016</td>\n",
       "      <td>Mayo</td>\n",
       "      <td>IZTAPALAPA</td>\n",
       "      <td>LESIONES DOLOSAS POR DISPARO DE ARMA DE FUEGO</td>\n",
       "      <td>LESIONES INTENCIONALES POR ARMA DE FUEGO</td>\n",
       "      <td>H4</td>\n",
       "      <td>T3</td>\n",
       "      <td>2016-05-01 02:33:17</td>\n",
       "      <td>INVESTIGACIÓN EN IZTAPALAPA</td>\n",
       "      <td>MAURILIO MEJIA  NOTIFICACION DE CASO MEDICO LEGAL</td>\n",
       "      <td>LUCIO BLANCO</td>\n",
       "      <td>NaN</td>\n",
       "      <td>NaN</td>\n",
       "      <td>NaN</td>\n",
       "      <td>2016-05</td>\n",
       "      <td>NaN</td>\n",
       "    </tr>\n",
       "  </tbody>\n",
       "</table>\n",
       "</div>"
      ],
      "text/plain": [
       "    Año   Mes    Alcaldía                            Categoría de delito  \\\n",
       "7  2016  Mayo  IZTAPALAPA  LESIONES DOLOSAS POR DISPARO DE ARMA DE FUEGO   \n",
       "\n",
       "                                     Delito Agencia Unidad de investigación  \\\n",
       "7  LESIONES INTENCIONALES POR ARMA DE FUEGO      H4                      T3   \n",
       "\n",
       "          Fecha inicio                     Fiscalía  \\\n",
       "7  2016-05-01 02:33:17  INVESTIGACIÓN EN IZTAPALAPA   \n",
       "\n",
       "                                              Calle1        Calle2 Colonia  \\\n",
       "7  MAURILIO MEJIA  NOTIFICACION DE CASO MEDICO LEGAL  LUCIO BLANCO     NaN   \n",
       "\n",
       "   Latitud  Longitud Mes y año Geopoint  \n",
       "7      NaN       NaN   2016-05      NaN  "
      ]
     },
     "execution_count": 13,
     "metadata": {},
     "output_type": "execute_result"
    }
   ],
   "source": [
    "carpetas_investigacion.iloc[[7]] #ejemplo"
   ]
  },
  {
   "cell_type": "code",
   "execution_count": 14,
   "metadata": {},
   "outputs": [
    {
     "data": {
      "text/plain": [
       "Index(['Categoría de delito', 'Año', 'Mes', 'Alcaldía', 'Delito', 'Agencia',\n",
       "       'Unidad de investigación', 'Fecha inicio', 'Fiscalía', 'Calle1',\n",
       "       'Calle2', 'Colonia', 'Latitud', 'Longitud', 'Mes y año', 'Geopoint'],\n",
       "      dtype='object')"
      ]
     },
     "execution_count": 14,
     "metadata": {},
     "output_type": "execute_result"
    }
   ],
   "source": [
    "tipos_delitos_CDMX.columns"
   ]
  },
  {
   "cell_type": "code",
   "execution_count": 15,
   "metadata": {},
   "outputs": [],
   "source": [
    "#conservamos solo las columnas de nuestro interés\n",
    "tipos_delitos_CDMX = tipos_delitos_CDMX.drop(columns = ['Mes', 'Alcaldía', 'Delito', 'Agencia',\n",
    "       'Unidad de investigación', 'Fecha inicio', 'Fiscalía', 'Calle1',\n",
    "       'Calle2', 'Colonia', 'Latitud', 'Longitud', 'Mes y año', 'Geopoint'])"
   ]
  },
  {
   "cell_type": "code",
   "execution_count": 16,
   "metadata": {},
   "outputs": [],
   "source": [
    "tipos_delitos_CDMX.columns = ['Categoría de delito', 'frecuencia'] #las renombramos"
   ]
  },
  {
   "cell_type": "code",
   "execution_count": 21,
   "metadata": {},
   "outputs": [
    {
     "data": {
      "image/png": "[encoded data removed]",
      "text/plain": [
       "<Figure size 432x288 with 1 Axes>"
      ]
     },
     "metadata": {},
     "output_type": "display_data"
    }
   ],
   "source": [
    "dist_por_tipo = tipos_delitos_CDMX.hist(bins = 50 ) #buscamos la distribución"
   ]
  },
  {
   "cell_type": "code",
   "execution_count": 18,
   "metadata": {},
   "outputs": [
    {
     "data": {
      "text/plain": [
       "array([[<matplotlib.axes._subplots.AxesSubplot object at 0x1166c1f60>]],\n",
       "      dtype=object)"
      ]
     },
     "execution_count": 18,
     "metadata": {},
     "output_type": "execute_result"
    }
   ],
   "source": [
    "dist_por_tipo"
   ]
  },
  {
   "cell_type": "code",
   "execution_count": 22,
   "metadata": {},
   "outputs": [
    {
     "data": {
      "text/plain": [
       "array(['DELITO DE BAJO IMPACTO', 'HECHO NO DELICTIVO', 'HOMICIDIO DOLOSO',\n",
       "       'LESIONES DOLOSAS POR DISPARO DE ARMA DE FUEGO',\n",
       "       'ROBO A CASA HABITACIÓN CON VIOLENCIA',\n",
       "       'ROBO A CUENTAHABIENTE SALIENDO DEL CAJERO CON VIOLENCIA',\n",
       "       'ROBO A NEGOCIO CON VIOLENCIA',\n",
       "       'ROBO A PASAJERO A BORDO DE MICROBUS CON Y SIN VIOLENCIA',\n",
       "       'ROBO A PASAJERO A BORDO DE TAXI CON VIOLENCIA',\n",
       "       'ROBO A PASAJERO A BORDO DEL METRO CON Y SIN VIOLENCIA',\n",
       "       'ROBO A REPARTIDOR CON Y SIN VIOLENCIA',\n",
       "       'ROBO A TRANSEUNTE EN VÍA PÚBLICA CON Y SIN VIOLENCIA',\n",
       "       'ROBO A TRANSPORTISTA CON Y SIN VIOLENCIA',\n",
       "       'ROBO DE VEHÍCULO CON Y SIN VIOLENCIA', 'SECUESTRO', 'VIOLACIÓN'],\n",
       "      dtype=object)"
      ]
     },
     "execution_count": 22,
     "metadata": {},
     "output_type": "execute_result"
    }
   ],
   "source": [
    "tipos_delitos_CDMX['Categoría de delito'].unique()"
   ]
  },
  {
   "cell_type": "code",
   "execution_count": 23,
   "metadata": {},
   "outputs": [
    {
     "data": {
      "text/plain": [
       "16"
      ]
     },
     "execution_count": 23,
     "metadata": {},
     "output_type": "execute_result"
    }
   ],
   "source": [
    "len(tipos_delitos_CDMX['Categoría de delito'].unique())"
   ]
  },
  {
   "cell_type": "code",
   "execution_count": 24,
   "metadata": {},
   "outputs": [],
   "source": [
    "#contar los delitos más frecuentes\n",
    "tipos_delitos_CDMX = tipos_delitos_CDMX.sort_values(by = ['frecuencia'], ascending = False)"
   ]
  },
  {
   "cell_type": "code",
   "execution_count": 25,
   "metadata": {},
   "outputs": [
    {
     "data": {
      "text/html": [
       "<div>\n",
       "<style scoped>\n",
       "    .dataframe tbody tr th:only-of-type {\n",
       "        vertical-align: middle;\n",
       "    }\n",
       "\n",
       "    .dataframe tbody tr th {\n",
       "        vertical-align: top;\n",
       "    }\n",
       "\n",
       "    .dataframe thead th {\n",
       "        text-align: right;\n",
       "    }\n",
       "</style>\n",
       "<table border=\"1\" class=\"dataframe\">\n",
       "  <thead>\n",
       "    <tr style=\"text-align: right;\">\n",
       "      <th></th>\n",
       "      <th>Categoría de delito</th>\n",
       "      <th>frecuencia</th>\n",
       "    </tr>\n",
       "  </thead>\n",
       "  <tbody>\n",
       "    <tr>\n",
       "      <th>0</th>\n",
       "      <td>DELITO DE BAJO IMPACTO</td>\n",
       "      <td>551984</td>\n",
       "    </tr>\n",
       "    <tr>\n",
       "      <th>1</th>\n",
       "      <td>HECHO NO DELICTIVO</td>\n",
       "      <td>51034</td>\n",
       "    </tr>\n",
       "    <tr>\n",
       "      <th>13</th>\n",
       "      <td>ROBO DE VEHÍCULO CON Y SIN VIOLENCIA</td>\n",
       "      <td>36920</td>\n",
       "    </tr>\n",
       "    <tr>\n",
       "      <th>11</th>\n",
       "      <td>ROBO A TRANSEUNTE EN VÍA PÚBLICA CON Y SIN VIO...</td>\n",
       "      <td>26234</td>\n",
       "    </tr>\n",
       "    <tr>\n",
       "      <th>6</th>\n",
       "      <td>ROBO A NEGOCIO CON VIOLENCIA</td>\n",
       "      <td>9111</td>\n",
       "    </tr>\n",
       "    <tr>\n",
       "      <th>3</th>\n",
       "      <td>LESIONES DOLOSAS POR DISPARO DE ARMA DE FUEGO</td>\n",
       "      <td>6102</td>\n",
       "    </tr>\n",
       "    <tr>\n",
       "      <th>10</th>\n",
       "      <td>ROBO A REPARTIDOR CON Y SIN VIOLENCIA</td>\n",
       "      <td>5936</td>\n",
       "    </tr>\n",
       "    <tr>\n",
       "      <th>9</th>\n",
       "      <td>ROBO A PASAJERO A BORDO DEL METRO CON Y SIN VI...</td>\n",
       "      <td>3909</td>\n",
       "    </tr>\n",
       "    <tr>\n",
       "      <th>2</th>\n",
       "      <td>HOMICIDIO DOLOSO</td>\n",
       "      <td>3848</td>\n",
       "    </tr>\n",
       "    <tr>\n",
       "      <th>7</th>\n",
       "      <td>ROBO A PASAJERO A BORDO DE MICROBUS CON Y SIN ...</td>\n",
       "      <td>2350</td>\n",
       "    </tr>\n",
       "    <tr>\n",
       "      <th>15</th>\n",
       "      <td>VIOLACIÓN</td>\n",
       "      <td>1814</td>\n",
       "    </tr>\n",
       "    <tr>\n",
       "      <th>4</th>\n",
       "      <td>ROBO A CASA HABITACIÓN CON VIOLENCIA</td>\n",
       "      <td>1515</td>\n",
       "    </tr>\n",
       "    <tr>\n",
       "      <th>5</th>\n",
       "      <td>ROBO A CUENTAHABIENTE SALIENDO DEL CAJERO CON ...</td>\n",
       "      <td>1138</td>\n",
       "    </tr>\n",
       "    <tr>\n",
       "      <th>8</th>\n",
       "      <td>ROBO A PASAJERO A BORDO DE TAXI CON VIOLENCIA</td>\n",
       "      <td>569</td>\n",
       "    </tr>\n",
       "    <tr>\n",
       "      <th>12</th>\n",
       "      <td>ROBO A TRANSPORTISTA CON Y SIN VIOLENCIA</td>\n",
       "      <td>391</td>\n",
       "    </tr>\n",
       "    <tr>\n",
       "      <th>14</th>\n",
       "      <td>SECUESTRO</td>\n",
       "      <td>67</td>\n",
       "    </tr>\n",
       "  </tbody>\n",
       "</table>\n",
       "</div>"
      ],
      "text/plain": [
       "                                  Categoría de delito  frecuencia\n",
       "0                              DELITO DE BAJO IMPACTO      551984\n",
       "1                                  HECHO NO DELICTIVO       51034\n",
       "13               ROBO DE VEHÍCULO CON Y SIN VIOLENCIA       36920\n",
       "11  ROBO A TRANSEUNTE EN VÍA PÚBLICA CON Y SIN VIO...       26234\n",
       "6                        ROBO A NEGOCIO CON VIOLENCIA        9111\n",
       "3       LESIONES DOLOSAS POR DISPARO DE ARMA DE FUEGO        6102\n",
       "10              ROBO A REPARTIDOR CON Y SIN VIOLENCIA        5936\n",
       "9   ROBO A PASAJERO A BORDO DEL METRO CON Y SIN VI...        3909\n",
       "2                                    HOMICIDIO DOLOSO        3848\n",
       "7   ROBO A PASAJERO A BORDO DE MICROBUS CON Y SIN ...        2350\n",
       "15                                          VIOLACIÓN        1814\n",
       "4                ROBO A CASA HABITACIÓN CON VIOLENCIA        1515\n",
       "5   ROBO A CUENTAHABIENTE SALIENDO DEL CAJERO CON ...        1138\n",
       "8       ROBO A PASAJERO A BORDO DE TAXI CON VIOLENCIA         569\n",
       "12           ROBO A TRANSPORTISTA CON Y SIN VIOLENCIA         391\n",
       "14                                          SECUESTRO          67"
      ]
     },
     "execution_count": 25,
     "metadata": {},
     "output_type": "execute_result"
    }
   ],
   "source": [
    "tipos_delitos_CDMX"
   ]
  },
  {
   "cell_type": "code",
   "execution_count": 26,
   "metadata": {},
   "outputs": [
    {
     "data": {
      "text/plain": [
       "260"
      ]
     },
     "execution_count": 26,
     "metadata": {},
     "output_type": "execute_result"
    }
   ],
   "source": [
    "len(carpetas_investigacion.Delito.unique())"
   ]
  },
  {
   "cell_type": "code",
   "execution_count": 27,
   "metadata": {},
   "outputs": [
    {
     "data": {
      "text/plain": [
       "array(['DENUNCIA DE HECHOS',\n",
       "       'ROBO DE VEHICULO DE SERVICIO PARTICULAR SIN VIOLENCIA',\n",
       "       'LESIONES CULPOSAS POR TRANSITO VEHICULAR EN COLISION',\n",
       "       'ABUSO DE AUTORIDAD', 'DISPAROS DE ARMA DE FUEGO',\n",
       "       'ROBO A TRANSEUNTE EN VIA PUBLICA CON VIOLENCIA', 'ABUSO SEXUAL',\n",
       "       'LESIONES INTENCIONALES POR ARMA DE FUEGO',\n",
       "       'DAÑO EN PROPIEDAD AJENA INTENCIONAL', 'HOMICIDIO POR ARMA BLANCA',\n",
       "       'PERDIDA DE LA VIDA POR OTRAS CAUSAS',\n",
       "       'LESIONES IMPRUDENCIALES POR TRANSITO VEHICULAR',\n",
       "       'DELITOS AMBIENTALES', 'ROBO A NEGOCIO CON VIOLENCIA',\n",
       "       'ROBO A NEGOCIO SIN VIOLENCIA',\n",
       "       'FALSIFICACION DE TITULOS AL PORTADOR Y DOCUMENTOS DE CREDITO PUBLICO',\n",
       "       'DAÑO EN PROPIEDAD AJENA IMPRUDENCIAL POR TRÁNSITO VEHICULAR A AUTOMOVIL',\n",
       "       'AMENAZAS', 'EXTORSION', 'ROBO A CASA HABITACION SIN VIOLENCIA',\n",
       "       'USO DE DOCUMENTO FALSO',\n",
       "       'ROBO A PASAJERO A BORDO DE TAXI SIN VIOLENCIA',\n",
       "       'VIOLENCIA FAMILIAR', 'ROBO DE MOTOCICLETA SIN VIOLENCIA',\n",
       "       'DESPOJO', 'ROBO DE ACCESORIOS DE AUTO', 'ROBO DE OBJETOS',\n",
       "       'ROBO DE OBJETOS DEL INTERIOR DE UN VEHICULO', 'ROBO DE DINERO',\n",
       "       'RESISTENCIA DE PARTICULARES (SE OPONGA O RESISTA)',\n",
       "       'ROBO A TRANSEUNTE DE CELULAR CON VIOLENCIA',\n",
       "       'NARCOMENUDEO POSESION SIMPLE', 'HOMICIDIO POR ARMA DE FUEGO',\n",
       "       'ALLANAMIENTO DE MORADA', 'GESTIÓN AMBIENTAL',\n",
       "       'DAÑO EN PROPIEDAD AJENA IMPRUDENCIAL', 'FRAUDE',\n",
       "       'ROBO DE VEHICULO DE PEDALES',\n",
       "       'LESIONES INTENCIONALES POR ARMA BLANCA',\n",
       "       'ROBO A TRANSEUNTE DE CELULAR SIN VIOLENCIA',\n",
       "       'PRIVACION DE LA LIBERTAD PERSONAL',\n",
       "       'ROBO A REPARTIDOR CON VIOLENCIA', 'LESIONES IMPRUDENCIALES',\n",
       "       'INTIMIDACION', 'ABUSO DE CONFIANZA',\n",
       "       'NEGACION DEL SERVICIO PUBLICO',\n",
       "       'ROBO A PASAJERO A BORDO DE PESERO COLECTIVO CON VIOLENCIA',\n",
       "       'ROBO DE VEHICULO DE SERVICIO PARTICULAR CON VIOLENCIA',\n",
       "       'ROBO A PASAJERO / CONDUCTOR DE VEHICULO CON VIOLENCIA',\n",
       "       'ROBO DE PLACA DE AUTOMOVIL', 'FALSIFICACION DE DOCUMENTOS',\n",
       "       'POSESION DE VEHICULO ROBADO', 'ROBO DE DOCUMENTOS',\n",
       "       'PERDIDA DE LA VIDA POR CAIDA', 'SUSTRACCION DE MENORES',\n",
       "       'DAÑO EN PROPIEDAD AJENA INTENCIONAL A AUTOMOVIL',\n",
       "       'HOMICIDIO IMPRUDENCIAL POR TRÁNSITO VEHICULAR (ATROPELLADO)',\n",
       "       'ENCUBRIMIENTO', 'ROBO DE ANIMALES', 'PORTACION DE ARMA DE FUEGO',\n",
       "       'ROBO A PASAJERO A BORDO DE METRO SIN VIOLENCIA',\n",
       "       'DAÑO EN PROPIEDAD AJENA INTENCIONAL A BIENES INMUEBLES',\n",
       "       'USURPACIÓN DE IDENTIDAD',\n",
       "       'ROBO A TRANSEUNTE EN NEGOCIO CON VIOLENCIA',\n",
       "       'ROBO A TRANSEUNTE EN VIA PUBLICA SIN VIOLENCIA',\n",
       "       'PERDIDA DE LA VIDA POR PARO CARDIACO',\n",
       "       'PERDIDA DE LA VIDA POR SUICIDIO',\n",
       "       'ROBO A TRANSEUNTE SALIENDO DEL CAJERO CON VIOLENCIA',\n",
       "       'LESIONES INTENCIONALES POR GOLPES',\n",
       "       'ROBO A CASA HABITACION CON VIOLENCIA', 'MALTRATO ANIMAL',\n",
       "       'ROBO DE MOTOCICLETA CON VIOLENCIA', 'TENTATIVA DE EXTORSION',\n",
       "       'TORTURA', 'SECUESTRO EXPRESS (PARA COMETER ROBO O EXTORSIÓN)',\n",
       "       'ROBO A REPARTIDOR SIN VIOLENCIA',\n",
       "       'ROBO A PASAJERO A BORDO DE METROBUS SIN VIOLENCIA',\n",
       "       'ROBO A OFICINA PÚBLICA SIN VIOLENCIA', 'HOSTIGAMIENTO SEXUAL',\n",
       "       'ROBO DE VEHICULO DE SERVICIO PÚBLICO SIN VIOLENCIA', 'VIOLACION',\n",
       "       'COHECHO', 'QUEBRANTAMIENTO DE SELLOS',\n",
       "       'ROBO DE VEHICULO DE SERVICIO PÚBLICO CON VIOLENCIA',\n",
       "       'NARCOMENUDEO POSESIÓN CON FINES DE VENTA, COMERCIO Y SUMINISTRO',\n",
       "       'DISCRIMINACION', 'ABANDONO DE PERSONA', 'INSOLVENCIA ALIMENTARIA',\n",
       "       'DAÑO EN PROPIEDAD AJENA IMPRUDENCIAL POR TRÁNSITO VEHICULAR A BIENES INMUEBLES',\n",
       "       'CORRUPCION DE MENORES', 'FALSEDAD DE DECLARACIONES',\n",
       "       'ROBO A PASAJERO A BORDO DE TRANSPORTE PÚBLICO SIN VIOLENCIA',\n",
       "       'TENTATIVA DE ROBO', 'LA ADMINISTRACION DE JUSTICIA',\n",
       "       'PERDIDA DE LA VIDA POR ACCIDENTE LABORAL',\n",
       "       'DESOBEDENCIA DE PARTICULARES',\n",
       "       'LESIONES CULPOSAS POR CAIDA DE VEHÍCULO EN MOVIMIENTO',\n",
       "       'ROBO A PASAJERO A BORDO DE TRANSPORTE PÚBLICO CON VIOLENCIA',\n",
       "       'ROBO A PASAJERO EN TREN SUBURBANO SIN VIOLENCIA',\n",
       "       'ROBO DE VEHICULO DE SERVICIO OFICIAL SIN VIOLENCIA',\n",
       "       'ROBO A TRANSPORTISTA Y VEHICULO PESADO CON VIOLENCIA',\n",
       "       'ROBO A PASAJERO EN TREN LIGERO SIN VIOLENCIA',\n",
       "       'CONTRA EL ESTADO CIVIL', 'LESIONES INTENCIONALES',\n",
       "       'REVELACION DE SECRETOS',\n",
       "       'ROBO A CASA HABITACION Y VEHICULO SIN VIOLENCIA',\n",
       "       'DAÑO EN PROPIEDAD AJENA INTENCIONAL A CASA HABITACION',\n",
       "       'ROBO A PASAJERO A BORDO DE METRO CON VIOLENCIA',\n",
       "       'RESPONSABILIDAD PROFESIONAL', 'ROBO DE OBJETOS A ESCUELA',\n",
       "       'DELITOS DE ABOGADOS PATRONOS Y LITIGANTES',\n",
       "       'CONTRA FUNCIONARIOS PUBLICOS', 'HOMICIDIOS INTENCIONALES (OTROS)',\n",
       "       'DAÑO EN PROPIEDAD AJENA INTENCIONAL A NEGOCIO',\n",
       "       'ROBO A NEGOCIO Y VEHICULO CON VIOLENCIA',\n",
       "       'PORTACION ARMA/PROHIB.',\n",
       "       'ROBO A REPARTIDOR Y VEHICULO CON VIOLENCIA', 'TRATA DE PERSONAS',\n",
       "       'PELIGRO DE CONTAGIO',\n",
       "       'ROBO A PASAJERO / CONDUCTOR DE TAXI CON VIOLENCIA',\n",
       "       'ROBO A TRANSEUNTE EN RESTAURANT CON VIOLENCIA',\n",
       "       'ROBO A PASAJERO A BORDO DE TAXI CON VIOLENCIA',\n",
       "       'PLAGIO O SECUESTRO', 'BIGAMIA',\n",
       "       'LESIONES IMPRUDENCIALES POR CAIDA',\n",
       "       'PERDIDA DE LA VIDA POR ENFERMEDAD', 'HOMICIDIO POR GOLPES',\n",
       "       'HOMICIDIO IMPRUDENCIAL POR TRÁNSITO VEHICULAR (COLISION)',\n",
       "       'ATAQUE A LAS VIAS DE COMUNICACION (DAÑO A VIAS O MEDIOS DE TRANSPORTE)',\n",
       "       'TENTATIVA DE ROBO DE VEHICULO', 'USURPACION DE FUNCIONES',\n",
       "       'DELITOS ELECTORALES',\n",
       "       'ATAQUE A LAS VIAS GENERALES DE COMUNICACIÓN',\n",
       "       'ROBO A TRANSEUNTE EN PARQUES Y MERCADOS CON VIOLENCIA',\n",
       "       'ROBO A PASAJERO A BORDO DE PESERO COLECTIVO SIN VIOLENCIA',\n",
       "       'TENTATIVA DE HOMICIDIO',\n",
       "       'ROBO A PASAJERO EN TROLEBUS SIN VIOLENCIA',\n",
       "       'ROBO A TRANSEUNTE SALIENDO DEL BANCO CON VIOLENCIA',\n",
       "       'CORRUPCION DE MENORES E INCAPACES', 'ROBO DE ALHAJAS',\n",
       "       'ROBO DE VEHICULO DE SERVICIO DE TRANSPORTE SIN VIOLENCIA',\n",
       "       'EJERCICIO INDEBIDO DEL SERVIDOR PUBLICO',\n",
       "       'INTIMIDACION (EVITAR DENUNCIA, APORTE INFORMACIÓN O PRUEBAS)',\n",
       "       'HOMICIDIO IMPRUDENCIAL POR TRÁNSITO VEHICULAR',\n",
       "       'VIOLACION EQUIPARADA',\n",
       "       'ROBO DE VEHICULO DE SERVICIO DE TRANSPORTE CON VIOLENCIA',\n",
       "       'LESIONES IMPRUDENCIALES POR QUEMADURAS',\n",
       "       'HOMICIDIO IMPRUDENCIAL POR ARMA DE FUEGO',\n",
       "       'PERDIDA DE LA VIDA POR CONGESTION ALCOHOLICA',\n",
       "       'VIOLACION TUMULTUARIA', 'PERDIDA DE LA VIDA POR QUEMADURA',\n",
       "       'HOMICIDIO INTENCIONAL Y ROBO DE VEHICULO',\n",
       "       'ROBO A TRANSPORTISTA Y VEHICULO PESADO SIN VIOLENCIA',\n",
       "       'LESIONES IMPRUDENCIALES ACCIDENTE LABORAL', 'ABORTO',\n",
       "       'VARIACION DE NOMBRE O DOMICILIO', 'ROBO DE FLUIDOS',\n",
       "       'ROBO A TRANSEUNTE EN HOTEL CON VIOLENCIA', 'FEMINICIDIO',\n",
       "       'HOMICIDIO IMPRUDENCIAL POR TRÁNSITO VEHICULAR (CAIDA)',\n",
       "       'PORNOGRAFIA INFANTIL',\n",
       "       'DAÑO EN PROPIEDAD AJENA INTENCIONAL A VIAS DE COMUNICACION',\n",
       "       'ROBO DE ARMA',\n",
       "       'PERDIDA DE LA VIDA ASFIXIA POR ALIMENTOS/ LIQUIDOS',\n",
       "       'ROBO A CASA HABITACION Y VEHICULO CON VIOLENCIA',\n",
       "       'ROBO A PASAJERO A BORDO DE METROBUS CON VIOLENCIA',\n",
       "       'USO INDEBIDO DE ATRIBUCIONES Y FACULTADES',\n",
       "       'ROBO A SUCURSAL BANCARIA (ASALTO BANCARIO) CON VIOLENCIA',\n",
       "       'TENTATIVA DE VIOLACION', 'TENTATIVA DE FRAUDE',\n",
       "       'PERDIDA DE LA VIDA POR INTOXICACION',\n",
       "       'ROBO A PASAJERO EN ECOBUS SIN VIOLENCIA', 'OTROS CULPOSOS',\n",
       "       'PERDIDA DE LA VIDA POR AHOGAMIENTO',\n",
       "       'VIOLACION DE CORRESPONDENCIA', 'ROBO DE MAQUINARIA CON VIOLENCIA',\n",
       "       'PRIV. ILEGAL DE LA LIB. Y ROBO DE VEHICULO',\n",
       "       'USURPACION DE PROFESION',\n",
       "       'OPERACIONES CON RECURSOS DE PROCEDENCIA ILICITA',\n",
       "       'HOMICIDIO IMPRUDENCIAL FUERA DEL D.F (ATROPELLADO)',\n",
       "       'ROBO A REPARTIDOR Y VEHICULO SIN VIOLENCIA',\n",
       "       'FALSIFICACION DE SELLOS, MARCAS, LLAVES Y OTROS',\n",
       "       'DESAPARICION FORZADA DE PERSONAS',\n",
       "       'ROBO A NEGOCIO Y VEHICULO SIN VIOLENCIA',\n",
       "       'HOMICIDIO POR AHORCAMIENTO',\n",
       "       'PERDIDA DE LA VIDA POR SUICIDIO EN EL METRO',\n",
       "       'ROBO DE VEHICULO DE SERVICIO OFICIAL CON VIOLENCIA',\n",
       "       'ROBO A SUCURSAL BANCARIA (SUPERMERCADO) SIN VIOLENCIA',\n",
       "       'HOMICIDIO IMPRUDENCIAL', 'REGULACIÓN URBANA',\n",
       "       'PERDIDA DE LA VIDA POR PRECIPITACION', 'CONCUSION',\n",
       "       'HOMICIDIO IMPRUDENCIAL FUERA DEL D.F (COLISION)',\n",
       "       'TRAFICO DE INFLUENCIA', 'PECULADO',\n",
       "       'INHUMACIONES Y/O EXHUMACIONES',\n",
       "       'HOMICIDIO IMPRUDENCIAL POR INSTRUMENTO PUNZO CORTANTE',\n",
       "       'OPOSICION A LA OBRA PUBLICA',\n",
       "       'DAÑO EN PROPIEDAD AJENA IMPRUDENCIAL POR TRÁNSITO VEHICULAR A VIAS DE COMUNICACION',\n",
       "       'DIFAMACION', 'TRAFICO DE INFANTES', 'EVASION DE PRESOS',\n",
       "       'ROBO A PASAJERO EN TROLEBUS CON VIOLENCIA',\n",
       "       'PERDIDA DE LA VIDA POR DERRUMBE', 'TENTATIVA DE SUICIDIO',\n",
       "       'ROBO A PASAJERO EN RTP CON VIOLENCIA',\n",
       "       'EXPLOTACIÓN DE MENOR O DISCAPACITADO', 'OTROS DELITOS',\n",
       "       'ROBO EN INTERIOR DE EMPRESA (NOMINA) SIN VIOLENCIA',\n",
       "       'ROBO A PASAJERO EN ECOBUS CON VIOLENCIA', 'ESTUPRO',\n",
       "       'ROBO A PASAJERO EN AUTOBÚS FORÁNEO CON VIOLENCIA',\n",
       "       'VIOLACION EQUIPARADA Y ROBO DE VEHICULO', 'TALA',\n",
       "       'ROBO DURANTE TRASLADO DE VALORES (NOMINA) CON VIOLENCIA',\n",
       "       'COACCION DE SERVIDORES PUBLICOS',\n",
       "       'DAÑO SUELO (ACTIVIDAD, INVASIÓN O EXTRACCIÓN)',\n",
       "       'USO INDEBIDO DE CONDECORACIONES UNIFORMES E INSIGNIAS',\n",
       "       'PERDIDA DE LA VIDA POR ASFIXIA',\n",
       "       'ROBO DE MAQUINARIA SIN VIOLENCIA', 'SABOTAJE',\n",
       "       'VIOLACION TUMULTUARIA EQUIPARADA POR CONOCIDO',\n",
       "       'ATAQUES A LA PAZ PUBLICA',\n",
       "       'ROBO A TRANSEUNTE EN CINE CON VIOLENCIA',\n",
       "       'VIOLACION EQUIPARADA POR CONOCIDO', 'ENRIQUECIMIENTO ILICITO',\n",
       "       'MOTIN', 'ROBO A SUCURSAL BANCARIA (SUPERMERCADO) CON VIOLENCIA',\n",
       "       'ROBO A PASAJERO EN AUTOBUS FORANEO SIN VIOLENCIA',\n",
       "       'ROBO A OFICINA PÚBLICA CON VIOLENCIA',\n",
       "       'ROBO EN INTERIOR DE EMPRESA (NOMINA) CON VIOLENCIA',\n",
       "       'ROBO A TRANSEUNTE EN VIA PUBLICA (NOMINA) CON VIOLENCIA',\n",
       "       'ULTRAJES', 'ROBO A TRANSEUNTE Y VEHICULO CON VIOLENCIA',\n",
       "       'CONTAMINACIÓN O RESIDUOS', 'EXPOSICION DE MENORES',\n",
       "       'CAMBIO DE USO DE SUELO', 'ROBO A PASAJERO EN RTP SIN VIOLENCIA',\n",
       "       'DESACATO', 'VIOLACION DE LA INTIMIDAD', 'DELITOS CONTRA LA SALUD',\n",
       "       'ROBO DURANTE TRASLADO DE VALORES (NOMINA) SIN VIOLENCIA',\n",
       "       'ROBO A TRANSEUNTE EN TERMINAL DE PASAJEROS CON VIOLENCIA',\n",
       "       'ENTREGA ILEGITIMA DE UN MENOR',\n",
       "       'ROBO A PASAJERO EN TREN LIGERO CON VIOLENCIA',\n",
       "       'PRIVACION DE LA LIBERTAD PERSONAL (REALIZAR ACTO SEXUAL)',\n",
       "       'PROVOCACION O APOLOGIA DE DELITO',\n",
       "       'ROBO A PASAJERO A BORDO DE PESERO Y VEHICULO CON VIOLENCIA',\n",
       "       'VIOLACION Y ROBO DE VEHICULO', 'LENOCINIO',\n",
       "       'ASOCIACION DELICTUOSA', 'ROBO DE VEHICULO Y NOMINA CON VIOLENCIA',\n",
       "       'PERDIDA DE LA VIDA POR ENVENENAMIENTO',\n",
       "       'CONTRA LA LEY GENERAL DE EXPLOSIVOS', 'PROCREACION ASISTIDA',\n",
       "       'CALUMNIAS', 'LESIONES INTENCIONALES Y ROBO DE VEHICULO',\n",
       "       'ROBO A PASAJERO EN TREN SUBURBANO CON VIOLENCIA', 'PARRICIDIO',\n",
       "       'DENUNCIA DE HECHOS POR ROBO DE CELULAR'], dtype=object)"
      ]
     },
     "execution_count": 27,
     "metadata": {},
     "output_type": "execute_result"
    }
   ],
   "source": [
    "carpetas_investigacion.Delito.unique()"
   ]
  },
  {
   "cell_type": "code",
   "execution_count": 28,
   "metadata": {},
   "outputs": [],
   "source": [
    "delitos_CDMX = carpetas_investigacion.groupby('Delito', as_index = False).count()"
   ]
  },
  {
   "cell_type": "code",
   "execution_count": 29,
   "metadata": {},
   "outputs": [
    {
     "data": {
      "text/html": [
       "<div>\n",
       "<style scoped>\n",
       "    .dataframe tbody tr th:only-of-type {\n",
       "        vertical-align: middle;\n",
       "    }\n",
       "\n",
       "    .dataframe tbody tr th {\n",
       "        vertical-align: top;\n",
       "    }\n",
       "\n",
       "    .dataframe thead th {\n",
       "        text-align: right;\n",
       "    }\n",
       "</style>\n",
       "<table border=\"1\" class=\"dataframe\">\n",
       "  <thead>\n",
       "    <tr style=\"text-align: right;\">\n",
       "      <th></th>\n",
       "      <th>Delito</th>\n",
       "      <th>Año</th>\n",
       "      <th>Mes</th>\n",
       "      <th>Alcaldía</th>\n",
       "      <th>Categoría de delito</th>\n",
       "      <th>Agencia</th>\n",
       "      <th>Unidad de investigación</th>\n",
       "      <th>Fecha inicio</th>\n",
       "      <th>Fiscalía</th>\n",
       "      <th>Calle1</th>\n",
       "      <th>Calle2</th>\n",
       "      <th>Colonia</th>\n",
       "      <th>Latitud</th>\n",
       "      <th>Longitud</th>\n",
       "      <th>Mes y año</th>\n",
       "      <th>Geopoint</th>\n",
       "    </tr>\n",
       "  </thead>\n",
       "  <tbody>\n",
       "    <tr>\n",
       "      <th>0</th>\n",
       "      <td>ABANDONO DE PERSONA</td>\n",
       "      <td>2431</td>\n",
       "      <td>2431</td>\n",
       "      <td>2421</td>\n",
       "      <td>2431</td>\n",
       "      <td>2431</td>\n",
       "      <td>2431</td>\n",
       "      <td>2431</td>\n",
       "      <td>2431</td>\n",
       "      <td>2426</td>\n",
       "      <td>431</td>\n",
       "      <td>2256</td>\n",
       "      <td>2255</td>\n",
       "      <td>2255</td>\n",
       "      <td>2431</td>\n",
       "      <td>2255</td>\n",
       "    </tr>\n",
       "    <tr>\n",
       "      <th>1</th>\n",
       "      <td>ABORTO</td>\n",
       "      <td>325</td>\n",
       "      <td>325</td>\n",
       "      <td>324</td>\n",
       "      <td>325</td>\n",
       "      <td>325</td>\n",
       "      <td>325</td>\n",
       "      <td>325</td>\n",
       "      <td>325</td>\n",
       "      <td>322</td>\n",
       "      <td>161</td>\n",
       "      <td>198</td>\n",
       "      <td>198</td>\n",
       "      <td>198</td>\n",
       "      <td>325</td>\n",
       "      <td>198</td>\n",
       "    </tr>\n",
       "    <tr>\n",
       "      <th>2</th>\n",
       "      <td>ABUSO DE AUTORIDAD</td>\n",
       "      <td>4527</td>\n",
       "      <td>4527</td>\n",
       "      <td>4497</td>\n",
       "      <td>4527</td>\n",
       "      <td>4527</td>\n",
       "      <td>4527</td>\n",
       "      <td>4527</td>\n",
       "      <td>4527</td>\n",
       "      <td>4508</td>\n",
       "      <td>1745</td>\n",
       "      <td>4079</td>\n",
       "      <td>4085</td>\n",
       "      <td>4085</td>\n",
       "      <td>4527</td>\n",
       "      <td>4085</td>\n",
       "    </tr>\n",
       "    <tr>\n",
       "      <th>3</th>\n",
       "      <td>ABUSO DE CONFIANZA</td>\n",
       "      <td>11369</td>\n",
       "      <td>11369</td>\n",
       "      <td>11358</td>\n",
       "      <td>11369</td>\n",
       "      <td>11369</td>\n",
       "      <td>11369</td>\n",
       "      <td>11369</td>\n",
       "      <td>11369</td>\n",
       "      <td>11346</td>\n",
       "      <td>3117</td>\n",
       "      <td>11182</td>\n",
       "      <td>11192</td>\n",
       "      <td>11192</td>\n",
       "      <td>11369</td>\n",
       "      <td>11192</td>\n",
       "    </tr>\n",
       "    <tr>\n",
       "      <th>4</th>\n",
       "      <td>ABUSO SEXUAL</td>\n",
       "      <td>6350</td>\n",
       "      <td>6350</td>\n",
       "      <td>6327</td>\n",
       "      <td>6350</td>\n",
       "      <td>6350</td>\n",
       "      <td>6350</td>\n",
       "      <td>6350</td>\n",
       "      <td>6350</td>\n",
       "      <td>6297</td>\n",
       "      <td>1983</td>\n",
       "      <td>5573</td>\n",
       "      <td>5704</td>\n",
       "      <td>5704</td>\n",
       "      <td>6350</td>\n",
       "      <td>5704</td>\n",
       "    </tr>\n",
       "  </tbody>\n",
       "</table>\n",
       "</div>"
      ],
      "text/plain": [
       "                Delito    Año    Mes  Alcaldía  Categoría de delito  Agencia  \\\n",
       "0  ABANDONO DE PERSONA   2431   2431      2421                 2431     2431   \n",
       "1               ABORTO    325    325       324                  325      325   \n",
       "2   ABUSO DE AUTORIDAD   4527   4527      4497                 4527     4527   \n",
       "3   ABUSO DE CONFIANZA  11369  11369     11358                11369    11369   \n",
       "4         ABUSO SEXUAL   6350   6350      6327                 6350     6350   \n",
       "\n",
       "   Unidad de investigación  Fecha inicio  Fiscalía  Calle1  Calle2  Colonia  \\\n",
       "0                     2431          2431      2431    2426     431     2256   \n",
       "1                      325           325       325     322     161      198   \n",
       "2                     4527          4527      4527    4508    1745     4079   \n",
       "3                    11369         11369     11369   11346    3117    11182   \n",
       "4                     6350          6350      6350    6297    1983     5573   \n",
       "\n",
       "   Latitud  Longitud  Mes y año  Geopoint  \n",
       "0     2255      2255       2431      2255  \n",
       "1      198       198        325       198  \n",
       "2     4085      4085       4527      4085  \n",
       "3    11192     11192      11369     11192  \n",
       "4     5704      5704       6350      5704  "
      ]
     },
     "execution_count": 29,
     "metadata": {},
     "output_type": "execute_result"
    }
   ],
   "source": [
    "delitos_CDMX.head(5) #aqui se nota que tambien faltan datos de alcaldía, calles,colonia, latitud y longitud\n"
   ]
  },
  {
   "cell_type": "code",
   "execution_count": 30,
   "metadata": {},
   "outputs": [],
   "source": [
    "delitos_CDMX = delitos_CDMX.drop(columns = ['Mes', 'Alcaldía','Categoría de delito', 'Agencia',\n",
    "       'Unidad de investigación', 'Fecha inicio', 'Fiscalía', 'Calle1',\n",
    "       'Calle2', 'Colonia', 'Latitud', 'Longitud', 'Mes y año', 'Geopoint'])\n",
    "delitos_CDMX.columns = ['Delito', 'frecuencia']"
   ]
  },
  {
   "cell_type": "code",
   "execution_count": 31,
   "metadata": {},
   "outputs": [
    {
     "data": {
      "text/html": [
       "<div>\n",
       "<style scoped>\n",
       "    .dataframe tbody tr th:only-of-type {\n",
       "        vertical-align: middle;\n",
       "    }\n",
       "\n",
       "    .dataframe tbody tr th {\n",
       "        vertical-align: top;\n",
       "    }\n",
       "\n",
       "    .dataframe thead th {\n",
       "        text-align: right;\n",
       "    }\n",
       "</style>\n",
       "<table border=\"1\" class=\"dataframe\">\n",
       "  <thead>\n",
       "    <tr style=\"text-align: right;\">\n",
       "      <th></th>\n",
       "      <th>Delito</th>\n",
       "      <th>frecuencia</th>\n",
       "    </tr>\n",
       "  </thead>\n",
       "  <tbody>\n",
       "    <tr>\n",
       "      <th>259</th>\n",
       "      <td>VIOLENCIA FAMILIAR</td>\n",
       "      <td>58947</td>\n",
       "    </tr>\n",
       "    <tr>\n",
       "      <th>209</th>\n",
       "      <td>ROBO DE OBJETOS</td>\n",
       "      <td>46997</td>\n",
       "    </tr>\n",
       "    <tr>\n",
       "      <th>145</th>\n",
       "      <td>ROBO A NEGOCIO SIN VIOLENCIA</td>\n",
       "      <td>44246</td>\n",
       "    </tr>\n",
       "    <tr>\n",
       "      <th>38</th>\n",
       "      <td>DENUNCIA DE HECHOS</td>\n",
       "      <td>43736</td>\n",
       "    </tr>\n",
       "    <tr>\n",
       "      <th>61</th>\n",
       "      <td>FRAUDE</td>\n",
       "      <td>38850</td>\n",
       "    </tr>\n",
       "    <tr>\n",
       "      <th>6</th>\n",
       "      <td>AMENAZAS</td>\n",
       "      <td>31563</td>\n",
       "    </tr>\n",
       "    <tr>\n",
       "      <th>182</th>\n",
       "      <td>ROBO A TRANSEUNTE DE CELULAR CON VIOLENCIA</td>\n",
       "      <td>25775</td>\n",
       "    </tr>\n",
       "    <tr>\n",
       "      <th>191</th>\n",
       "      <td>ROBO A TRANSEUNTE EN VIA PUBLICA CON VIOLENCIA</td>\n",
       "      <td>22915</td>\n",
       "    </tr>\n",
       "    <tr>\n",
       "      <th>198</th>\n",
       "      <td>ROBO DE ACCESORIOS DE AUTO</td>\n",
       "      <td>21769</td>\n",
       "    </tr>\n",
       "    <tr>\n",
       "      <th>211</th>\n",
       "      <td>ROBO DE OBJETOS DEL INTERIOR DE UN VEHICULO</td>\n",
       "      <td>21137</td>\n",
       "    </tr>\n",
       "  </tbody>\n",
       "</table>\n",
       "</div>"
      ],
      "text/plain": [
       "                                             Delito  frecuencia\n",
       "259                              VIOLENCIA FAMILIAR       58947\n",
       "209                                 ROBO DE OBJETOS       46997\n",
       "145                    ROBO A NEGOCIO SIN VIOLENCIA       44246\n",
       "38                               DENUNCIA DE HECHOS       43736\n",
       "61                                           FRAUDE       38850\n",
       "6                                          AMENAZAS       31563\n",
       "182      ROBO A TRANSEUNTE DE CELULAR CON VIOLENCIA       25775\n",
       "191  ROBO A TRANSEUNTE EN VIA PUBLICA CON VIOLENCIA       22915\n",
       "198                      ROBO DE ACCESORIOS DE AUTO       21769\n",
       "211     ROBO DE OBJETOS DEL INTERIOR DE UN VEHICULO       21137"
      ]
     },
     "execution_count": 31,
     "metadata": {},
     "output_type": "execute_result"
    }
   ],
   "source": [
    "#ordenado por Delito (diferente a categoria de delito)\n",
    "delitos_CDMX = delitos_CDMX.sort_values(by = ['frecuencia'], ascending = False)\n",
    "delitos_CDMX.head(10)"
   ]
  },
  {
   "cell_type": "markdown",
   "metadata": {},
   "source": [
    "### Alcaldias con más y menos delitos"
   ]
  },
  {
   "cell_type": "code",
   "execution_count": 32,
   "metadata": {},
   "outputs": [],
   "source": [
    "alcaldias = carpetas_investigacion[['Alcaldía','Delito']]"
   ]
  },
  {
   "cell_type": "code",
   "execution_count": 33,
   "metadata": {},
   "outputs": [],
   "source": [
    "alcaldias = alcaldias.groupby('Alcaldía', as_index = False).count()"
   ]
  },
  {
   "cell_type": "code",
   "execution_count": 34,
   "metadata": {},
   "outputs": [
    {
     "data": {
      "text/html": [
       "<div>\n",
       "<style scoped>\n",
       "    .dataframe tbody tr th:only-of-type {\n",
       "        vertical-align: middle;\n",
       "    }\n",
       "\n",
       "    .dataframe tbody tr th {\n",
       "        vertical-align: top;\n",
       "    }\n",
       "\n",
       "    .dataframe thead th {\n",
       "        text-align: right;\n",
       "    }\n",
       "</style>\n",
       "<table border=\"1\" class=\"dataframe\">\n",
       "  <thead>\n",
       "    <tr style=\"text-align: right;\">\n",
       "      <th></th>\n",
       "      <th>Alcaldía</th>\n",
       "      <th>Delito</th>\n",
       "    </tr>\n",
       "  </thead>\n",
       "  <tbody>\n",
       "    <tr>\n",
       "      <th>0</th>\n",
       "      <td>ABALA</td>\n",
       "      <td>1</td>\n",
       "    </tr>\n",
       "    <tr>\n",
       "      <th>1</th>\n",
       "      <td>ABASOLO</td>\n",
       "      <td>2</td>\n",
       "    </tr>\n",
       "    <tr>\n",
       "      <th>2</th>\n",
       "      <td>ACAMBAY</td>\n",
       "      <td>3</td>\n",
       "    </tr>\n",
       "    <tr>\n",
       "      <th>3</th>\n",
       "      <td>ACAPULCO DE JUAREZ</td>\n",
       "      <td>35</td>\n",
       "    </tr>\n",
       "    <tr>\n",
       "      <th>4</th>\n",
       "      <td>ACATZINGO</td>\n",
       "      <td>2</td>\n",
       "    </tr>\n",
       "  </tbody>\n",
       "</table>\n",
       "</div>"
      ],
      "text/plain": [
       "             Alcaldía  Delito\n",
       "0               ABALA       1\n",
       "1             ABASOLO       2\n",
       "2             ACAMBAY       3\n",
       "3  ACAPULCO DE JUAREZ      35\n",
       "4           ACATZINGO       2"
      ]
     },
     "execution_count": 34,
     "metadata": {},
     "output_type": "execute_result"
    }
   ],
   "source": [
    "alcaldias.head(5)"
   ]
  },
  {
   "cell_type": "code",
   "execution_count": 36,
   "metadata": {},
   "outputs": [],
   "source": [
    "lista_alcaldias = carpetas_investigacion.Alcaldía.unique().tolist() #creamos una lista con las alcaldias "
   ]
  },
  {
   "cell_type": "code",
   "execution_count": 37,
   "metadata": {},
   "outputs": [],
   "source": [
    "alcaldias = alcaldias.sort_values(by=['Delito'], ascending = True)"
   ]
  },
  {
   "cell_type": "code",
   "execution_count": 38,
   "metadata": {},
   "outputs": [
    {
     "data": {
      "text/html": [
       "<div>\n",
       "<style scoped>\n",
       "    .dataframe tbody tr th:only-of-type {\n",
       "        vertical-align: middle;\n",
       "    }\n",
       "\n",
       "    .dataframe tbody tr th {\n",
       "        vertical-align: top;\n",
       "    }\n",
       "\n",
       "    .dataframe thead th {\n",
       "        text-align: right;\n",
       "    }\n",
       "</style>\n",
       "<table border=\"1\" class=\"dataframe\">\n",
       "  <thead>\n",
       "    <tr style=\"text-align: right;\">\n",
       "      <th></th>\n",
       "      <th>Alcaldía</th>\n",
       "      <th>Delito</th>\n",
       "    </tr>\n",
       "  </thead>\n",
       "  <tbody>\n",
       "    <tr>\n",
       "      <th>0</th>\n",
       "      <td>ABALA</td>\n",
       "      <td>1</td>\n",
       "    </tr>\n",
       "    <tr>\n",
       "      <th>143</th>\n",
       "      <td>G?EMEZ</td>\n",
       "      <td>1</td>\n",
       "    </tr>\n",
       "    <tr>\n",
       "      <th>144</th>\n",
       "      <td>GENERAL ESCOBEDO</td>\n",
       "      <td>1</td>\n",
       "    </tr>\n",
       "    <tr>\n",
       "      <th>302</th>\n",
       "      <td>SAN JUAN COTZOCON</td>\n",
       "      <td>1</td>\n",
       "    </tr>\n",
       "    <tr>\n",
       "      <th>301</th>\n",
       "      <td>SAN JUAN BAUTISTA TUXTEPEC</td>\n",
       "      <td>1</td>\n",
       "    </tr>\n",
       "    <tr>\n",
       "      <th>300</th>\n",
       "      <td>SAN JOSE DEL RINCON</td>\n",
       "      <td>1</td>\n",
       "    </tr>\n",
       "    <tr>\n",
       "      <th>299</th>\n",
       "      <td>SAN GREGORIO ATZOMPA</td>\n",
       "      <td>1</td>\n",
       "    </tr>\n",
       "    <tr>\n",
       "      <th>297</th>\n",
       "      <td>SAN FERNANDO</td>\n",
       "      <td>1</td>\n",
       "    </tr>\n",
       "    <tr>\n",
       "      <th>150</th>\n",
       "      <td>GUASAVE</td>\n",
       "      <td>1</td>\n",
       "    </tr>\n",
       "    <tr>\n",
       "      <th>151</th>\n",
       "      <td>GUAYMAS</td>\n",
       "      <td>1</td>\n",
       "    </tr>\n",
       "  </tbody>\n",
       "</table>\n",
       "</div>"
      ],
      "text/plain": [
       "                       Alcaldía  Delito\n",
       "0                         ABALA       1\n",
       "143                      G?EMEZ       1\n",
       "144            GENERAL ESCOBEDO       1\n",
       "302           SAN JUAN COTZOCON       1\n",
       "301  SAN JUAN BAUTISTA TUXTEPEC       1\n",
       "300         SAN JOSE DEL RINCON       1\n",
       "299        SAN GREGORIO ATZOMPA       1\n",
       "297                SAN FERNANDO       1\n",
       "150                     GUASAVE       1\n",
       "151                     GUAYMAS       1"
      ]
     },
     "execution_count": 38,
     "metadata": {},
     "output_type": "execute_result"
    }
   ],
   "source": [
    "alcaldias.head(10) #las que menos (se puede observar una inconsistencia en el nombre de alcaldia del registro 143)"
   ]
  },
  {
   "cell_type": "code",
   "execution_count": 39,
   "metadata": {},
   "outputs": [],
   "source": [
    "alcaldias = alcaldias.sort_values(by=['Delito'], ascending = False)"
   ]
  },
  {
   "cell_type": "code",
   "execution_count": 40,
   "metadata": {},
   "outputs": [
    {
     "data": {
      "text/html": [
       "<div>\n",
       "<style scoped>\n",
       "    .dataframe tbody tr th:only-of-type {\n",
       "        vertical-align: middle;\n",
       "    }\n",
       "\n",
       "    .dataframe tbody tr th {\n",
       "        vertical-align: top;\n",
       "    }\n",
       "\n",
       "    .dataframe thead th {\n",
       "        text-align: right;\n",
       "    }\n",
       "</style>\n",
       "<table border=\"1\" class=\"dataframe\">\n",
       "  <thead>\n",
       "    <tr style=\"text-align: right;\">\n",
       "      <th></th>\n",
       "      <th>Alcaldía</th>\n",
       "      <th>Delito</th>\n",
       "    </tr>\n",
       "  </thead>\n",
       "  <tbody>\n",
       "    <tr>\n",
       "      <th>112</th>\n",
       "      <td>CUAUHTEMOC</td>\n",
       "      <td>114987</td>\n",
       "    </tr>\n",
       "    <tr>\n",
       "      <th>183</th>\n",
       "      <td>IZTAPALAPA</td>\n",
       "      <td>103507</td>\n",
       "    </tr>\n",
       "    <tr>\n",
       "      <th>153</th>\n",
       "      <td>GUSTAVO A MADERO</td>\n",
       "      <td>69446</td>\n",
       "    </tr>\n",
       "    <tr>\n",
       "      <th>57</th>\n",
       "      <td>BENITO JUAREZ</td>\n",
       "      <td>61590</td>\n",
       "    </tr>\n",
       "    <tr>\n",
       "      <th>107</th>\n",
       "      <td>COYOACAN</td>\n",
       "      <td>47645</td>\n",
       "    </tr>\n",
       "    <tr>\n",
       "      <th>235</th>\n",
       "      <td>MIGUEL HIDALGO</td>\n",
       "      <td>46686</td>\n",
       "    </tr>\n",
       "    <tr>\n",
       "      <th>21</th>\n",
       "      <td>ALVARO OBREGON</td>\n",
       "      <td>44906</td>\n",
       "    </tr>\n",
       "    <tr>\n",
       "      <th>382</th>\n",
       "      <td>TLALPAN</td>\n",
       "      <td>40187</td>\n",
       "    </tr>\n",
       "    <tr>\n",
       "      <th>411</th>\n",
       "      <td>VENUSTIANO CARRANZA</td>\n",
       "      <td>40059</td>\n",
       "    </tr>\n",
       "    <tr>\n",
       "      <th>53</th>\n",
       "      <td>AZCAPOTZALCO</td>\n",
       "      <td>34879</td>\n",
       "    </tr>\n",
       "  </tbody>\n",
       "</table>\n",
       "</div>"
      ],
      "text/plain": [
       "                Alcaldía  Delito\n",
       "112           CUAUHTEMOC  114987\n",
       "183           IZTAPALAPA  103507\n",
       "153     GUSTAVO A MADERO   69446\n",
       "57         BENITO JUAREZ   61590\n",
       "107             COYOACAN   47645\n",
       "235       MIGUEL HIDALGO   46686\n",
       "21        ALVARO OBREGON   44906\n",
       "382              TLALPAN   40187\n",
       "411  VENUSTIANO CARRANZA   40059\n",
       "53          AZCAPOTZALCO   34879"
      ]
     },
     "execution_count": 40,
     "metadata": {},
     "output_type": "execute_result"
    }
   ],
   "source": [
    "alcaldias.head(10) #las que mas"
   ]
  },
  {
   "cell_type": "code",
   "execution_count": 41,
   "metadata": {},
   "outputs": [
    {
     "data": {
      "text/plain": [
       "450"
      ]
     },
     "execution_count": 41,
     "metadata": {},
     "output_type": "execute_result"
    }
   ],
   "source": [
    "len(lista_alcaldias) #WOW no todos los datos son de la CDMX"
   ]
  },
  {
   "cell_type": "markdown",
   "metadata": {},
   "source": [
    "## ALCALDIAS CDMX"
   ]
  },
  {
   "cell_type": "code",
   "execution_count": 42,
   "metadata": {},
   "outputs": [],
   "source": [
    "lista_alcaldias_CDMX = ['CUAUHTEMOC',\n",
    " 'ALVARO OBREGON',\n",
    " 'MIGUEL HIDALGO',\n",
    " 'IZTAPALAPA',\n",
    " 'BENITO JUAREZ',\n",
    " 'XOCHIMILCO',\n",
    " 'VENUSTIANO CARRANZA',\n",
    " 'TLAHUAC',\n",
    " 'COYOACAN',\n",
    " 'GUSTAVO A MADERO',\n",
    " 'AZCAPOTZALCO','IZTACALCO','CUAJIMALPA DE MORELOS',\n",
    " 'TLALPAN',\n",
    " 'LA MAGDALENA CONTRERAS',\n",
    " 'MILPA ALTA']\n"
   ]
  },
  {
   "cell_type": "code",
   "execution_count": 45,
   "metadata": {},
   "outputs": [],
   "source": [
    "#tablas auxiliares para extraer la informacion de las colonias\n",
    "colonias = carpetas_investigacion[['Alcaldía','Colonia','Delito']]\n",
    "colonias = colonias.groupby(['Alcaldía','Colonia'], as_index = False).count()"
   ]
  },
  {
   "cell_type": "code",
   "execution_count": 46,
   "metadata": {},
   "outputs": [],
   "source": [
    "A = []\n",
    "for i in range(len(lista_alcaldias_CDMX)):\n",
    "    tmp = colonias[colonias['Alcaldía'] == lista_alcaldias_CDMX[i]]\n",
    "    tmp = tmp.sort_values(by = ['Delito'], ascending = False)\n",
    "    registro = (lista_alcaldias_CDMX[i],tmp.iloc[0][1], tmp.iloc[1][1],tmp.iloc[2][1])\n",
    "    A.append(registro)"
   ]
  },
  {
   "cell_type": "code",
   "execution_count": 47,
   "metadata": {},
   "outputs": [
    {
     "data": {
      "text/plain": [
       "[('CUAUHTEMOC', 'CENTRO', 'DOCTORES', 'ROMA NORTE'),\n",
       " ('ALVARO OBREGON', 'JARDINES DEL PEDREGAL', 'SAN ANGEL', 'ZEDEC SANTA FE'),\n",
       " ('MIGUEL HIDALGO', 'POLANCO', 'ANAHUAC', 'TACUBA'),\n",
       " ('IZTAPALAPA',\n",
       "  'CENTRAL DE ABASTO',\n",
       "  'LOMAS DE SAN LORENZO',\n",
       "  'DESARROLLO URBANO QUETZALCOATL'),\n",
       " ('BENITO JUAREZ', 'DEL VALLE CENTRO', 'NARVARTE', 'PORTALES SUR'),\n",
       " ('XOCHIMILCO',\n",
       "  'SAN GREGORIO ATLAPULCO',\n",
       "  'SANTIAGO TEPALCATLALPAN',\n",
       "  'SANTA CRUZ ACALPIXCA - PUEBLO'),\n",
       " ('VENUSTIANO CARRANZA',\n",
       "  'JARDÍN BALBUENA',\n",
       "  'MOCTEZUMA 2A SECCIÓN',\n",
       "  'ZONA CENTRO'),\n",
       " ('TLAHUAC', 'DEL MAR', 'MIGUEL HIDALGO', 'SANTA ANA PONIENTE'),\n",
       " ('COYOACAN', 'PEDREGAL DE SANTO DOMINGO', 'DEL CARMEN', 'AJUSCO'),\n",
       " ('GUSTAVO A MADERO',\n",
       "  'LINDAVISTA',\n",
       "  'GUADALUPE TEPEYAC',\n",
       "  'SAN FELIPE DE JESÚS'),\n",
       " ('AZCAPOTZALCO',\n",
       "  'EL ROSARIO',\n",
       "  'INDUSTRIAL VALLEJO',\n",
       "  'CENTRO DE AZCAPOTZALCO'),\n",
       " ('IZTACALCO', 'AGRÍCOLA ORIENTAL', 'AGRÍCOLA PANTITLAN', 'GRANJAS MÉXICO'),\n",
       " ('CUAJIMALPA DE MORELOS',\n",
       "  'LOMAS DE SANTA FE',\n",
       "  'CUAJIMALPA',\n",
       "  'SAN JOSÉ DE LOS CEDROS'),\n",
       " ('TLALPAN',\n",
       "  'SAN ANDRÉS TOTOLTEPEC',\n",
       "  'TLALPAN CENTRO I',\n",
       "  'HÉROES DE PADIERNA'),\n",
       " ('LA MAGDALENA CONTRERAS',\n",
       "  'SAN JERÓNIMO LÍDICE',\n",
       "  'SAN NICOLÁS TOTOLAPAN',\n",
       "  'SAN BERNABÉ OCOTEPEC'),\n",
       " ('MILPA ALTA',\n",
       "  'CRUZTITLA (SAN ANTONIO TECOMITL)',\n",
       "  'SAN MIGUEL (SAN PABLO OZTOTEPEC)',\n",
       "  'SANTA MARTHA (VILLA MILPA ALTA)')]"
      ]
     },
     "execution_count": 47,
     "metadata": {},
     "output_type": "execute_result"
    }
   ],
   "source": [
    "A #contiene los datos de las tres colonias en las que hay mas delitos con su respectiva alcaldia"
   ]
  },
  {
   "cell_type": "code",
   "execution_count": 48,
   "metadata": {},
   "outputs": [],
   "source": [
    "#veamos como se distribuye el numero de delitos respecto a las alcaldias\n",
    "alcaldias_CDMX = alcaldias[alcaldias['Alcaldía'].isin(lista_alcaldias_CDMX)] "
   ]
  },
  {
   "cell_type": "code",
   "execution_count": 49,
   "metadata": {},
   "outputs": [
    {
     "data": {
      "text/html": [
       "<div>\n",
       "<style scoped>\n",
       "    .dataframe tbody tr th:only-of-type {\n",
       "        vertical-align: middle;\n",
       "    }\n",
       "\n",
       "    .dataframe tbody tr th {\n",
       "        vertical-align: top;\n",
       "    }\n",
       "\n",
       "    .dataframe thead th {\n",
       "        text-align: right;\n",
       "    }\n",
       "</style>\n",
       "<table border=\"1\" class=\"dataframe\">\n",
       "  <thead>\n",
       "    <tr style=\"text-align: right;\">\n",
       "      <th></th>\n",
       "      <th>Alcaldía</th>\n",
       "      <th>Delito</th>\n",
       "    </tr>\n",
       "  </thead>\n",
       "  <tbody>\n",
       "    <tr>\n",
       "      <th>112</th>\n",
       "      <td>CUAUHTEMOC</td>\n",
       "      <td>114987</td>\n",
       "    </tr>\n",
       "    <tr>\n",
       "      <th>183</th>\n",
       "      <td>IZTAPALAPA</td>\n",
       "      <td>103507</td>\n",
       "    </tr>\n",
       "    <tr>\n",
       "      <th>153</th>\n",
       "      <td>GUSTAVO A MADERO</td>\n",
       "      <td>69446</td>\n",
       "    </tr>\n",
       "    <tr>\n",
       "      <th>57</th>\n",
       "      <td>BENITO JUAREZ</td>\n",
       "      <td>61590</td>\n",
       "    </tr>\n",
       "    <tr>\n",
       "      <th>107</th>\n",
       "      <td>COYOACAN</td>\n",
       "      <td>47645</td>\n",
       "    </tr>\n",
       "    <tr>\n",
       "      <th>235</th>\n",
       "      <td>MIGUEL HIDALGO</td>\n",
       "      <td>46686</td>\n",
       "    </tr>\n",
       "    <tr>\n",
       "      <th>21</th>\n",
       "      <td>ALVARO OBREGON</td>\n",
       "      <td>44906</td>\n",
       "    </tr>\n",
       "    <tr>\n",
       "      <th>382</th>\n",
       "      <td>TLALPAN</td>\n",
       "      <td>40187</td>\n",
       "    </tr>\n",
       "    <tr>\n",
       "      <th>411</th>\n",
       "      <td>VENUSTIANO CARRANZA</td>\n",
       "      <td>40059</td>\n",
       "    </tr>\n",
       "    <tr>\n",
       "      <th>53</th>\n",
       "      <td>AZCAPOTZALCO</td>\n",
       "      <td>34879</td>\n",
       "    </tr>\n",
       "    <tr>\n",
       "      <th>182</th>\n",
       "      <td>IZTACALCO</td>\n",
       "      <td>29869</td>\n",
       "    </tr>\n",
       "    <tr>\n",
       "      <th>424</th>\n",
       "      <td>XOCHIMILCO</td>\n",
       "      <td>21397</td>\n",
       "    </tr>\n",
       "    <tr>\n",
       "      <th>376</th>\n",
       "      <td>TLAHUAC</td>\n",
       "      <td>15664</td>\n",
       "    </tr>\n",
       "    <tr>\n",
       "      <th>203</th>\n",
       "      <td>LA MAGDALENA CONTRERAS</td>\n",
       "      <td>10337</td>\n",
       "    </tr>\n",
       "    <tr>\n",
       "      <th>111</th>\n",
       "      <td>CUAJIMALPA DE MORELOS</td>\n",
       "      <td>9753</td>\n",
       "    </tr>\n",
       "    <tr>\n",
       "      <th>236</th>\n",
       "      <td>MILPA ALTA</td>\n",
       "      <td>4469</td>\n",
       "    </tr>\n",
       "  </tbody>\n",
       "</table>\n",
       "</div>"
      ],
      "text/plain": [
       "                   Alcaldía  Delito\n",
       "112              CUAUHTEMOC  114987\n",
       "183              IZTAPALAPA  103507\n",
       "153        GUSTAVO A MADERO   69446\n",
       "57            BENITO JUAREZ   61590\n",
       "107                COYOACAN   47645\n",
       "235          MIGUEL HIDALGO   46686\n",
       "21           ALVARO OBREGON   44906\n",
       "382                 TLALPAN   40187\n",
       "411     VENUSTIANO CARRANZA   40059\n",
       "53             AZCAPOTZALCO   34879\n",
       "182               IZTACALCO   29869\n",
       "424              XOCHIMILCO   21397\n",
       "376                 TLAHUAC   15664\n",
       "203  LA MAGDALENA CONTRERAS   10337\n",
       "111   CUAJIMALPA DE MORELOS    9753\n",
       "236              MILPA ALTA    4469"
      ]
     },
     "execution_count": 49,
     "metadata": {},
     "output_type": "execute_result"
    }
   ],
   "source": [
    "alcaldias_CDMX"
   ]
  },
  {
   "cell_type": "code",
   "execution_count": 50,
   "metadata": {},
   "outputs": [
    {
     "data": {
      "text/plain": [
       "array([[<matplotlib.axes._subplots.AxesSubplot object at 0x116a7fb38>]],\n",
       "      dtype=object)"
      ]
     },
     "execution_count": 50,
     "metadata": {},
     "output_type": "execute_result"
    },
    {
     "data": {
      "image/png": "[encoded data removed]",
      "text/plain": [
       "<Figure size 432x288 with 1 Axes>"
      ]
     },
     "metadata": {},
     "output_type": "display_data"
    }
   ],
   "source": [
    "alcaldias_CDMX.hist(bins = 25, column = 'Delito')"
   ]
  },
  {
   "cell_type": "code",
   "execution_count": 51,
   "metadata": {},
   "outputs": [
    {
     "data": {
      "text/html": [
       "<div>\n",
       "<style scoped>\n",
       "    .dataframe tbody tr th:only-of-type {\n",
       "        vertical-align: middle;\n",
       "    }\n",
       "\n",
       "    .dataframe tbody tr th {\n",
       "        vertical-align: top;\n",
       "    }\n",
       "\n",
       "    .dataframe thead th {\n",
       "        text-align: right;\n",
       "    }\n",
       "</style>\n",
       "<table border=\"1\" class=\"dataframe\">\n",
       "  <thead>\n",
       "    <tr style=\"text-align: right;\">\n",
       "      <th></th>\n",
       "      <th>Delito</th>\n",
       "    </tr>\n",
       "  </thead>\n",
       "  <tbody>\n",
       "    <tr>\n",
       "      <th>count</th>\n",
       "      <td>16.000000</td>\n",
       "    </tr>\n",
       "    <tr>\n",
       "      <th>mean</th>\n",
       "      <td>43461.312500</td>\n",
       "    </tr>\n",
       "    <tr>\n",
       "      <th>std</th>\n",
       "      <td>31674.753395</td>\n",
       "    </tr>\n",
       "    <tr>\n",
       "      <th>min</th>\n",
       "      <td>4469.000000</td>\n",
       "    </tr>\n",
       "    <tr>\n",
       "      <th>25%</th>\n",
       "      <td>19963.750000</td>\n",
       "    </tr>\n",
       "    <tr>\n",
       "      <th>50%</th>\n",
       "      <td>40123.000000</td>\n",
       "    </tr>\n",
       "    <tr>\n",
       "      <th>75%</th>\n",
       "      <td>51131.250000</td>\n",
       "    </tr>\n",
       "    <tr>\n",
       "      <th>max</th>\n",
       "      <td>114987.000000</td>\n",
       "    </tr>\n",
       "  </tbody>\n",
       "</table>\n",
       "</div>"
      ],
      "text/plain": [
       "              Delito\n",
       "count      16.000000\n",
       "mean    43461.312500\n",
       "std     31674.753395\n",
       "min      4469.000000\n",
       "25%     19963.750000\n",
       "50%     40123.000000\n",
       "75%     51131.250000\n",
       "max    114987.000000"
      ]
     },
     "execution_count": 51,
     "metadata": {},
     "output_type": "execute_result"
    }
   ],
   "source": [
    "alcaldias_CDMX.describe()"
   ]
  },
  {
   "cell_type": "code",
   "execution_count": 52,
   "metadata": {},
   "outputs": [
    {
     "name": "stderr",
     "output_type": "stream",
     "text": [
      "/Users/ISIS/anaconda3/lib/python3.6/site-packages/ipykernel_launcher.py:1: SettingWithCopyWarning: \n",
      "A value is trying to be set on a copy of a slice from a DataFrame.\n",
      "Try using .loc[row_indexer,col_indexer] = value instead\n",
      "\n",
      "See the caveats in the documentation: http://pandas.pydata.org/pandas-docs/stable/indexing.html#indexing-view-versus-copy\n",
      "  \"\"\"Entry point for launching an IPython kernel.\n"
     ]
    }
   ],
   "source": [
    "alcaldias_CDMX['indice'] = [1,2,3,4,5,6,7,8,9,10,11,12,13,14,15,16]"
   ]
  },
  {
   "cell_type": "code",
   "execution_count": 53,
   "metadata": {},
   "outputs": [
    {
     "data": {
      "text/plain": [
       "array([[<matplotlib.axes._subplots.AxesSubplot object at 0x116f5eda0>]],\n",
       "      dtype=object)"
      ]
     },
     "execution_count": 53,
     "metadata": {},
     "output_type": "execute_result"
    },
    {
     "data": {
      "image/png": "[encoded data removed]",
      "text/plain": [
       "<Figure size 432x288 with 1 Axes>"
      ]
     },
     "metadata": {},
     "output_type": "display_data"
    }
   ],
   "source": [
    "alcaldias_CDMX.hist(column = 'indice')"
   ]
  },
  {
   "cell_type": "markdown",
   "metadata": {},
   "source": [
    "## Delitos a la alza y a la baja"
   ]
  },
  {
   "cell_type": "markdown",
   "metadata": {},
   "source": [
    "#### Crearemos una función cuyo argumento será un delito y nos permitirá ver un gráfico con su frecuencia a lo largo del 2018"
   ]
  },
  {
   "cell_type": "code",
   "execution_count": 56,
   "metadata": {},
   "outputs": [],
   "source": [
    "def historico_delito_2018(delito):\n",
    "    aux = carpetas_investigacion[(carpetas_investigacion.Delito == delito)&(carpetas_investigacion.Año == 2018)&\n",
    "                                (carpetas_investigacion.Alcaldía.isin(lista_alcaldias_CDMX))] #solo en la CDMX\n",
    "    #Extraer el mes de la columna Año y mes\n",
    "    aux['Mes'] = aux['Mes y año'].apply(lambda x: x[5:]).astype(int)\n",
    "    aux = aux[['Mes','Delito']]\n",
    "    aux_2 = aux.groupby('Mes', as_index = False).count()\n",
    "    aux_2.columns = ['Mes', delito]\n",
    "    return aux_2.plot(x = 'Mes',y = delito, kind = 'line', title = 'Número de ocurrencias durante 2018')\n"
   ]
  },
  {
   "cell_type": "code",
   "execution_count": 57,
   "metadata": {},
   "outputs": [
    {
     "name": "stderr",
     "output_type": "stream",
     "text": [
      "/Users/ISIS/anaconda3/lib/python3.6/site-packages/ipykernel_launcher.py:5: SettingWithCopyWarning: \n",
      "A value is trying to be set on a copy of a slice from a DataFrame.\n",
      "Try using .loc[row_indexer,col_indexer] = value instead\n",
      "\n",
      "See the caveats in the documentation: http://pandas.pydata.org/pandas-docs/stable/indexing.html#indexing-view-versus-copy\n",
      "  \"\"\"\n"
     ]
    },
    {
     "data": {
      "text/plain": [
       "<matplotlib.axes._subplots.AxesSubplot at 0x116a6ad30>"
      ]
     },
     "execution_count": 57,
     "metadata": {},
     "output_type": "execute_result"
    },
    {
     "data": {
      "image/png": "[encoded data removed]",
      "text/plain": [
       "<Figure size 432x288 with 1 Axes>"
      ]
     },
     "metadata": {},
     "output_type": "display_data"
    }
   ],
   "source": [
    "#EJEMPLO, de esta manera podemos ver si esta a la alza o a la baja en la CDMX durante el año 2018\n",
    "historico_delito_2018('ABUSO DE AUTORIDAD')"
   ]
  },
  {
   "cell_type": "code",
   "execution_count": null,
   "metadata": {},
   "outputs": [],
   "source": []
  }
 ],
 "metadata": {
  "kernelspec": {
   "display_name": "Python 3",
   "language": "python",
   "name": "python3"
  },
  "language_info": {
   "codemirror_mode": {
    "name": "ipython",
    "version": 3
   },
   "file_extension": ".py",
   "mimetype": "text/x-python",
   "name": "python",
   "nbconvert_exporter": "python",
   "pygments_lexer": "ipython3",
   "version": "3.6.7"
  }
 },
 "nbformat": 4,
 "nbformat_minor": 2
}
