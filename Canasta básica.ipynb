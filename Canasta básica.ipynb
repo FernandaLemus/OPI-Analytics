{
 "cells": [
  {
   "cell_type": "code",
   "execution_count": 1,
   "metadata": {},
   "outputs": [],
   "source": [
    "from pyspark import SparkContext\n",
    "from pyspark.sql import SQLContext\n",
    "sc = SparkContext()\n",
    "sqlContext = SQLContext(sc)"
   ]
  },
  {
   "cell_type": "code",
   "execution_count": 2,
   "metadata": {},
   "outputs": [],
   "source": [
    "QQP = sqlContext.read.csv('all_data.csv', header = 'true')"
   ]
  },
  {
   "cell_type": "code",
   "execution_count": 4,
   "metadata": {},
   "outputs": [
    {
     "name": "stdout",
     "output_type": "stream",
     "text": [
      "root\n",
      " |-- producto: string (nullable = true)\n",
      " |-- presentacion: string (nullable = true)\n",
      " |-- marca: string (nullable = true)\n",
      " |-- categoria: string (nullable = true)\n",
      " |-- catalogo: string (nullable = true)\n",
      " |-- precio: string (nullable = true)\n",
      " |-- fechaRegistro: string (nullable = true)\n",
      " |-- cadenaComercial: string (nullable = true)\n",
      " |-- giro: string (nullable = true)\n",
      " |-- nombreComercial: string (nullable = true)\n",
      " |-- direccion: string (nullable = true)\n",
      " |-- estado: string (nullable = true)\n",
      " |-- municipio: string (nullable = true)\n",
      " |-- latitud: string (nullable = true)\n",
      " |-- longitud: string (nullable = true)\n",
      "\n"
     ]
    }
   ],
   "source": [
    "QQP.printSchema()"
   ]
  },
  {
   "cell_type": "code",
   "execution_count": 5,
   "metadata": {},
   "outputs": [
    {
     "name": "stdout",
     "output_type": "stream",
     "text": [
      "+--------------------+\n",
      "|            catalogo|\n",
      "+--------------------+\n",
      "|             BASICOS|\n",
      "|            MERCADOS|\n",
      "|                null|\n",
      "|    UTILES ESCOLARES|\n",
      "|   ELECTRODOMESTICOS|\n",
      "|            catalogo|\n",
      "|           NAVIDEÑOS|\n",
      "|REGIONALES MONTERREY|\n",
      "|            JUGUETES|\n",
      "|               TENIS|\n",
      "|        MEDICAMENTOS|\n",
      "| PESCADOS Y MARISCOS|\n",
      "|  FRUTAS Y LEGUMBRES|\n",
      "+--------------------+\n",
      "\n"
     ]
    }
   ],
   "source": [
    "QQP.select('catalogo').distinct().show()"
   ]
  },
  {
   "cell_type": "code",
   "execution_count": 6,
   "metadata": {},
   "outputs": [
    {
     "name": "stdout",
     "output_type": "stream",
     "text": [
      "+--------------------+--------------------+\n",
      "|            catalogo|            producto|\n",
      "+--------------------+--------------------+\n",
      "|  FRUTAS Y LEGUMBRES|                 COL|\n",
      "|             BASICOS|  SAL MOLIDA DE MESA|\n",
      "|            MERCADOS|   MILANESA DE CERDO|\n",
      "|        MEDICAMENTOS|            DAFLOXEN|\n",
      "| PESCADOS Y MARISCOS|              LOBINA|\n",
      "|        MEDICAMENTOS|LEVONORGESTREL / ...|\n",
      "|             BASICOS|QUESOS TIPO AMERI...|\n",
      "|             BASICOS|   PAPAS Y SIMILARES|\n",
      "|             BASICOS|              CHALET|\n",
      "|        MEDICAMENTOS|CLORFENAMINA/ FEN...|\n",
      "|        MEDICAMENTOS|              ZACTOS|\n",
      "|        MEDICAMENTOS|          GALVUS MET|\n",
      "|             BASICOS|        AGUA SIN GAS|\n",
      "|        MEDICAMENTOS|       BEDOYECTA-TRI|\n",
      "|  FRUTAS Y LEGUMBRES|               FRESA|\n",
      "|        MEDICAMENTOS|             CONAZOL|\n",
      "|        MEDICAMENTOS|               CEDAX|\n",
      "|        MEDICAMENTOS|               LOPID|\n",
      "|        MEDICAMENTOS|              NORDET|\n",
      "|REGIONALES MONTERREY|               PASAS|\n",
      "+--------------------+--------------------+\n",
      "only showing top 20 rows\n",
      "\n"
     ]
    }
   ],
   "source": [
    "QQP.select('catalogo','producto').dropDuplicates().show()\n"
   ]
  },
  {
   "cell_type": "code",
   "execution_count": 7,
   "metadata": {},
   "outputs": [],
   "source": [
    "basicos = QQP.where(QQP.catalogo == 'BASICOS')"
   ]
  },
  {
   "cell_type": "code",
   "execution_count": 10,
   "metadata": {},
   "outputs": [
    {
     "data": {
      "text/plain": [
       "207"
      ]
     },
     "execution_count": 10,
     "metadata": {},
     "output_type": "execute_result"
    }
   ],
   "source": [
    "basicos.select('producto').dropDuplicates().count()"
   ]
  },
  {
   "cell_type": "code",
   "execution_count": null,
   "metadata": {},
   "outputs": [],
   "source": []
  }
 ],
 "metadata": {
  "kernelspec": {
   "display_name": "Python 3",
   "language": "python",
   "name": "python3"
  },
  "language_info": {
   "codemirror_mode": {
    "name": "ipython",
    "version": 3
   },
   "file_extension": ".py",
   "mimetype": "text/x-python",
   "name": "python",
   "nbconvert_exporter": "python",
   "pygments_lexer": "ipython3",
   "version": "3.6.7"
  }
 },
 "nbformat": 4,
 "nbformat_minor": 2
}
