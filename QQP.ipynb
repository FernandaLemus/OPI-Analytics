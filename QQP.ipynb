{
 "cells": [
  {
   "cell_type": "markdown",
   "metadata": {},
   "source": [
    "# QQP"
   ]
  },
  {
   "cell_type": "code",
   "execution_count": 7,
   "metadata": {
    "scrolled": true
   },
   "outputs": [],
   "source": [
    "#Contexto SparkSQL\n",
    "from pyspark import SparkContext\n",
    "from pyspark.sql import SQLContext\n",
    "sc = SparkContext()"
   ]
  },
  {
   "cell_type": "code",
   "execution_count": 8,
   "metadata": {},
   "outputs": [],
   "source": [
    "sqlContext = SQLContext(sc)"
   ]
  },
  {
   "cell_type": "code",
   "execution_count": 86,
   "metadata": {},
   "outputs": [],
   "source": [
    "from pyspark.sql.types import IntegerType"
   ]
  },
  {
   "cell_type": "code",
   "execution_count": 15,
   "metadata": {},
   "outputs": [],
   "source": [
    "QQP = sqlContext.read.csv('all_data.csv', header = 'true')"
   ]
  },
  {
   "cell_type": "code",
   "execution_count": 23,
   "metadata": {},
   "outputs": [
    {
     "data": {
      "text/plain": [
       "(15,\n",
       " ['producto',\n",
       "  'presentacion',\n",
       "  'marca',\n",
       "  'categoria',\n",
       "  'catalogo',\n",
       "  'precio',\n",
       "  'fechaRegistro',\n",
       "  'cadenaComercial',\n",
       "  'giro',\n",
       "  'nombreComercial',\n",
       "  'direccion',\n",
       "  'estado',\n",
       "  'municipio',\n",
       "  'latitud',\n",
       "  'longitud'])"
      ]
     },
     "execution_count": 23,
     "metadata": {},
     "output_type": "execute_result"
    }
   ],
   "source": [
    "#Número de Categorias y nombre de ellas\n",
    "len(QQP.columns), QQP.columns"
   ]
  },
  {
   "cell_type": "code",
   "execution_count": 20,
   "metadata": {
    "scrolled": true
   },
   "outputs": [
    {
     "name": "stdout",
     "output_type": "stream",
     "text": [
      "root\n",
      " |-- producto: string (nullable = true)\n",
      " |-- presentacion: string (nullable = true)\n",
      " |-- marca: string (nullable = true)\n",
      " |-- categoria: string (nullable = true)\n",
      " |-- catalogo: string (nullable = true)\n",
      " |-- precio: string (nullable = true)\n",
      " |-- fechaRegistro: string (nullable = true)\n",
      " |-- cadenaComercial: string (nullable = true)\n",
      " |-- giro: string (nullable = true)\n",
      " |-- nombreComercial: string (nullable = true)\n",
      " |-- direccion: string (nullable = true)\n",
      " |-- estado: string (nullable = true)\n",
      " |-- municipio: string (nullable = true)\n",
      " |-- latitud: string (nullable = true)\n",
      " |-- longitud: string (nullable = true)\n",
      "\n"
     ]
    }
   ],
   "source": [
    "#Echando un vistazo a la estructura de las variables\n",
    "QQP.printSchema()"
   ]
  },
  {
   "cell_type": "code",
   "execution_count": 21,
   "metadata": {},
   "outputs": [
    {
     "data": {
      "text/plain": [
       "62530715"
      ]
     },
     "execution_count": 21,
     "metadata": {},
     "output_type": "execute_result"
    }
   ],
   "source": [
    "#Contar el número de observaciones o registros\n",
    "QQP.count()"
   ]
  },
  {
   "cell_type": "code",
   "execution_count": 24,
   "metadata": {
    "scrolled": true
   },
   "outputs": [
    {
     "data": {
      "text/plain": [
       "(DataFrame[cadenaComercial: string], 706)"
      ]
     },
     "execution_count": 24,
     "metadata": {},
     "output_type": "execute_result"
    }
   ],
   "source": [
    "#Valores diferentes para la variable cadenaComercial (cadenas comerciales monitoreadas)\n",
    "QQP.select('cadenaComercial').distinct(), QQP.select('cadenaComercial').distinct().count()"
   ]
  },
  {
   "cell_type": "code",
   "execution_count": 25,
   "metadata": {},
   "outputs": [],
   "source": [
    "cadenasComerciales = QQP.select('cadenaComercial').distinct() #crea un DF con los valores distintos de cadenaComercial"
   ]
  },
  {
   "cell_type": "code",
   "execution_count": 28,
   "metadata": {},
   "outputs": [
    {
     "name": "stdout",
     "output_type": "stream",
     "text": [
      "+--------------------+\n",
      "|     cadenaComercial|\n",
      "+--------------------+\n",
      "|JULIO CEPEDA JUGU...|\n",
      "|           WOOLWORTH|\n",
      "| MARISCOS LA SEPTIMA|\n",
      "|PAPELERIA EL TINTERO|\n",
      "|LIBRERIA DE SANCH...|\n",
      "|PAPELERIA Y LIBRE...|\n",
      "|     PLAZA DEL LIBRO|\n",
      "|MERCADO ALONSO FE...|\n",
      "|     MERCADO LA CRUZ|\n",
      "|     ZAPATERIA PAKAR|\n",
      "|              SIGUBA|\n",
      "|           MEGA TOYS|\n",
      "| MARISCOS VILLA AZUL|\n",
      "|    BODEGAS VICTORIA|\n",
      "|     MINISUPER INALA|\n",
      "|              S MART|\n",
      "|    LIBRERIA ATHENAS|\n",
      "|        FARMACIAS M+|\n",
      "| MUEBLERIA CREDILAND|\n",
      "|   LOYEP (UNIFORMES)|\n",
      "+--------------------+\n",
      "only showing top 20 rows\n",
      "\n"
     ]
    }
   ],
   "source": [
    "QQP.select('cadenaComercial').distinct().show() #muestra los diferentes valores de la categoria cadenaComercial.\n",
    "#poco util ya que no muestra una lista completa y no permite notar si los nombres de las diferentes cadenasComerciales \n",
    "#estan escritos consistentemente\n"
   ]
  },
  {
   "cell_type": "markdown",
   "metadata": {},
   "source": [
    "## Productos monitoreados por entidad"
   ]
  },
  {
   "cell_type": "code",
   "execution_count": 36,
   "metadata": {},
   "outputs": [],
   "source": [
    "step1 = QQP.groupBy(\"estado\", \"producto\").count() #agrupamos por entidad y producto"
   ]
  },
  {
   "cell_type": "code",
   "execution_count": 39,
   "metadata": {
    "scrolled": false
   },
   "outputs": [
    {
     "name": "stdout",
     "output_type": "stream",
     "text": [
      "+--------------------+--------------------+-----+\n",
      "|              estado|            producto|count|\n",
      "+--------------------+--------------------+-----+\n",
      "|              MÉXICO|TINTE PARA EL CAB...|44007|\n",
      "|              MÉXICO|         TELEVISORES|29702|\n",
      "|              MÉXICO|              ACELGA| 7691|\n",
      "|              MÉXICO|       QUESO. COTIJA| 4414|\n",
      "|    DISTRITO FEDERAL|              AZUCAR|18078|\n",
      "|              MÉXICO|      DESENFRIOL-ITO|  642|\n",
      "|             JALISCO|               ARROZ|11735|\n",
      "|              OAXACA|PEDIALYTE. ELECTR...|  302|\n",
      "|            TLAXCALA|        AGUA SIN GAS|14505|\n",
      "|VERACRUZ DE IGNAC...|              TOMATE|  652|\n",
      "| MICHOACÁN DE OCAMPO|         PAN DE CAJA|13003|\n",
      "|             YUCATÁN|       FLAGENASE 400|  313|\n",
      "| MICHOACÁN DE OCAMPO|              ECTIVA|   39|\n",
      "|             YUCATÁN|        SALSA CATSUP| 6549|\n",
      "|             YUCATÁN|            CLAVULIN|  183|\n",
      "|             YUCATÁN|            CAPOTENA|  271|\n",
      "|             JALISCO|       FLAGENASE 400|  699|\n",
      "|             HIDALGO|              VERMOX|  121|\n",
      "|              OAXACA|       MAIZ POZOLERO| 1387|\n",
      "|              OAXACA|                 AJO|  783|\n",
      "+--------------------+--------------------+-----+\n",
      "only showing top 20 rows\n",
      "\n"
     ]
    }
   ],
   "source": [
    "step1.show()"
   ]
  },
  {
   "cell_type": "code",
   "execution_count": 40,
   "metadata": {},
   "outputs": [
    {
     "data": {
      "text/plain": [
       "pyspark.sql.dataframe.DataFrame"
      ]
     },
     "execution_count": 40,
     "metadata": {},
     "output_type": "execute_result"
    }
   ],
   "source": [
    "type(step1)"
   ]
  },
  {
   "cell_type": "code",
   "execution_count": 41,
   "metadata": {
    "scrolled": true
   },
   "outputs": [
    {
     "name": "stdout",
     "output_type": "stream",
     "text": [
      "+------+--------------------+-----+\n",
      "|estado|            producto|count|\n",
      "+------+--------------------+-----+\n",
      "|MÉXICO|TINTE PARA EL CAB...|44007|\n",
      "|MÉXICO|         TELEVISORES|29702|\n",
      "|MÉXICO|              ACELGA| 7691|\n",
      "|MÉXICO|       QUESO. COTIJA| 4414|\n",
      "|MÉXICO|      DESENFRIOL-ITO|  642|\n",
      "|MÉXICO|PIERNA DE CERDO E...|   78|\n",
      "|MÉXICO|                HABA| 4796|\n",
      "|MÉXICO|            SENSIBIT|  516|\n",
      "|MÉXICO|       DAFLON 500 M.| 4244|\n",
      "|MÉXICO|           SINGULAIR| 8669|\n",
      "|MÉXICO|DETERGENTE P/TRASTES|50337|\n",
      "|MÉXICO|      LAPIZ ADHESIVO|20589|\n",
      "|MÉXICO|        PAPEL LUSTRE| 9362|\n",
      "|MÉXICO|   JUGUETES ARMABLES| 6328|\n",
      "|MÉXICO|        ALKA-SELTZER| 3139|\n",
      "|MÉXICO|           NISTATINA|  359|\n",
      "|MÉXICO|         KETOCONAZOL| 2850|\n",
      "|MÉXICO|             PENAMOX|  379|\n",
      "|MÉXICO|     JUGUETES VARIOS|  617|\n",
      "|MÉXICO|     AUGMENTIN 12 H.| 4143|\n",
      "+------+--------------------+-----+\n",
      "only showing top 20 rows\n",
      "\n"
     ]
    }
   ],
   "source": [
    "step1.filter(step1['estado'] == 'MÉXICO').show()\n"
   ]
  },
  {
   "cell_type": "code",
   "execution_count": 78,
   "metadata": {
    "scrolled": true
   },
   "outputs": [
    {
     "name": "stdout",
     "output_type": "stream",
     "text": [
      "root\n",
      " |-- estado: string (nullable = true)\n",
      " |-- producto: string (nullable = true)\n",
      " |-- count: long (nullable = false)\n",
      "\n"
     ]
    }
   ],
   "source": [
    "step1.printSchema()"
   ]
  },
  {
   "cell_type": "code",
   "execution_count": 87,
   "metadata": {
    "scrolled": true
   },
   "outputs": [],
   "source": [
    "#cambiar el tipo de dato en columna count\n",
    "step1 = step1.withColumn(\"count\", step1[\"count\"].cast(IntegerType()))"
   ]
  },
  {
   "cell_type": "code",
   "execution_count": 89,
   "metadata": {
    "scrolled": true
   },
   "outputs": [
    {
     "name": "stdout",
     "output_type": "stream",
     "text": [
      "root\n",
      " |-- estado: string (nullable = true)\n",
      " |-- producto: string (nullable = true)\n",
      " |-- count: integer (nullable = false)\n",
      "\n"
     ]
    }
   ],
   "source": [
    "#verificamos el cambio\n",
    "step1.printSchema()"
   ]
  },
  {
   "cell_type": "code",
   "execution_count": 48,
   "metadata": {},
   "outputs": [],
   "source": [
    "estados_lista = step1.select('estado').distinct() #recuperamos los posibles valores que puede tomar la variable estado"
   ]
  },
  {
   "cell_type": "code",
   "execution_count": 46,
   "metadata": {},
   "outputs": [
    {
     "name": "stdout",
     "output_type": "stream",
     "text": [
      "+--------------------+\n",
      "|              estado|\n",
      "+--------------------+\n",
      "|        QUINTANA ROO|\n",
      "|          NUEVO LEÓN|\n",
      "|             SINALOA|\n",
      "|             TABASCO|\n",
      "|     BAJA CALIFORNIA|\n",
      "|            TLAXCALA|\n",
      "|COAHUILA DE ZARAGOZA|\n",
      "|                null|\n",
      "|       ESQ. SUR 125\"|\n",
      "| COL. EDUARDO GUERRA|\n",
      "|             CHIAPAS|\n",
      "|VERACRUZ DE IGNAC...|\n",
      "|              SONORA|\n",
      "|             YUCATÁN|\n",
      "| MICHOACÁN DE OCAMPO|\n",
      "|             DURANGO|\n",
      "|            GUERRERO|\n",
      "|             NAYARIT|\n",
      "|           CHIHUAHUA|\n",
      "|    DISTRITO FEDERAL|\n",
      "+--------------------+\n",
      "only showing top 20 rows\n",
      "\n"
     ]
    }
   ],
   "source": [
    "estados_lista.show()"
   ]
  },
  {
   "cell_type": "code",
   "execution_count": 60,
   "metadata": {},
   "outputs": [],
   "source": [
    "#creamos una lista con todos los nombres de los estados, luego notamos que hay entradas que no son estados. \n",
    "lista = [str(row.estado) for row in estados_lista.collect()]"
   ]
  },
  {
   "cell_type": "code",
   "execution_count": 122,
   "metadata": {
    "scrolled": true
   },
   "outputs": [
    {
     "data": {
      "text/plain": [
       "'None'"
      ]
     },
     "execution_count": 122,
     "metadata": {},
     "output_type": "execute_result"
    }
   ],
   "source": [
    "lista[7]"
   ]
  },
  {
   "cell_type": "code",
   "execution_count": 128,
   "metadata": {},
   "outputs": [
    {
     "data": {
      "text/plain": [
       "['QUINTANA ROO',\n",
       " 'NUEVO LEÓN',\n",
       " 'SINALOA',\n",
       " 'TABASCO',\n",
       " 'BAJA CALIFORNIA',\n",
       " 'TLAXCALA',\n",
       " 'COAHUILA DE ZARAGOZA',\n",
       " 'None',\n",
       " ' ESQ. SUR 125\"',\n",
       " ' COL. EDUARDO GUERRA',\n",
       " 'CHIAPAS',\n",
       " 'VERACRUZ DE IGNACIO DE LA LLAVE',\n",
       " 'SONORA',\n",
       " 'YUCATÁN',\n",
       " 'MICHOACÁN DE OCAMPO',\n",
       " 'DURANGO',\n",
       " 'GUERRERO',\n",
       " 'NAYARIT',\n",
       " 'CHIHUAHUA',\n",
       " 'DISTRITO FEDERAL',\n",
       " 'estado',\n",
       " 'HIDALGO',\n",
       " 'ZACATECAS',\n",
       " 'GUANAJUATO',\n",
       " 'TAMAULIPAS',\n",
       " 'SAN LUIS POTOSÍ',\n",
       " 'MORELOS',\n",
       " 'AGUASCALIENTES',\n",
       " 'OAXACA',\n",
       " 'PUEBLA',\n",
       " 'BAJA CALIFORNIA SUR',\n",
       " 'JALISCO',\n",
       " 'CAMPECHE',\n",
       " 'QUERÉTARO',\n",
       " 'COLIMA',\n",
       " 'MÉXICO']"
      ]
     },
     "execution_count": 128,
     "metadata": {},
     "output_type": "execute_result"
    }
   ],
   "source": [
    "lista"
   ]
  },
  {
   "cell_type": "code",
   "execution_count": 130,
   "metadata": {},
   "outputs": [],
   "source": [
    "#removemos los valores invalidos para el campo estado\n",
    "lista.remove('None') \n",
    "lista.remove(' ESQ. SUR 125\"')\n",
    "lista.remove(' COL. EDUARDO GUERRA')\n",
    "lista.remove('estado')"
   ]
  },
  {
   "cell_type": "code",
   "execution_count": 132,
   "metadata": {},
   "outputs": [
    {
     "data": {
      "text/plain": [
       "32"
      ]
     },
     "execution_count": 132,
     "metadata": {},
     "output_type": "execute_result"
    }
   ],
   "source": [
    "len(lista) #ya tenemos solo los 32 estados"
   ]
  },
  {
   "cell_type": "code",
   "execution_count": 133,
   "metadata": {},
   "outputs": [],
   "source": [
    "C = []\n",
    "for i in range(len(lista)):\n",
    "    tmp = step1.where(step1.estado == lista[i]) #filtrar por cada nombre de estado que aparece en la lista\n",
    "    tmp = tmp.orderBy(\"count\", ascending = False) #ordenar descendentemente el filtrado anterior\n",
    "    producto = tmp.head(1)[0] #puede pasar que sea vacia\n",
    "    info = (lista[i],producto[1],producto[2]) #creamos una tupla en la que tenga la inforamcion del estado, producto y cantidad de producto\n",
    "    C.append(info)"
   ]
  },
  {
   "cell_type": "code",
   "execution_count": 134,
   "metadata": {},
   "outputs": [
    {
     "data": {
      "text/plain": [
       "[('QUINTANA ROO', 'FUD', 34846),\n",
       " ('NUEVO LEÓN', 'DETERGENTE P/ROPA', 50307),\n",
       " ('SINALOA', 'REFRESCO', 33115),\n",
       " ('TABASCO', 'REFRESCO', 28754),\n",
       " ('BAJA CALIFORNIA', 'REFRESCO', 37243),\n",
       " ('TLAXCALA', 'REFRESCO', 43904),\n",
       " ('COAHUILA DE ZARAGOZA', 'FUD', 28613),\n",
       " ('CHIAPAS', 'REFRESCO', 14452),\n",
       " ('VERACRUZ DE IGNACIO DE LA LLAVE', 'REFRESCO', 14576),\n",
       " ('SONORA', 'REFRESCO', 34731),\n",
       " ('YUCATÁN', 'LECHE ULTRAPASTEURIZADA', 35991),\n",
       " ('MICHOACÁN DE OCAMPO', 'DETERGENTE P/ROPA', 40144),\n",
       " ('DURANGO', 'DETERGENTE P/ROPA', 9696),\n",
       " ('GUERRERO', 'REFRESCO', 8932),\n",
       " ('NAYARIT', 'REFRESCO', 8003),\n",
       " ('CHIHUAHUA', 'DETERGENTE P/ROPA', 15982),\n",
       " ('DISTRITO FEDERAL', 'REFRESCO', 287463),\n",
       " ('HIDALGO', 'REFRESCO', 18137),\n",
       " ('ZACATECAS', 'DETERGENTE P/ROPA', 20884),\n",
       " ('GUANAJUATO', 'REFRESCO', 49441),\n",
       " ('TAMAULIPAS', 'REFRESCO', 22457),\n",
       " ('SAN LUIS POTOSÍ', 'FUD', 10164),\n",
       " ('MORELOS', 'REFRESCO', 9632),\n",
       " ('AGUASCALIENTES', 'FUD', 12005),\n",
       " ('OAXACA', 'LECHE ULTRAPASTEURIZADA', 18078),\n",
       " ('PUEBLA', 'REFRESCO', 31597),\n",
       " ('BAJA CALIFORNIA SUR', 'REFRESCO', 27770),\n",
       " ('JALISCO', 'REFRESCO', 81718),\n",
       " ('CAMPECHE', 'FUD', 12960),\n",
       " ('QUERÉTARO', 'LECHE ULTRAPASTEURIZADA', 27868),\n",
       " ('COLIMA', 'DETERGENTE P/ROPA', 17193),\n",
       " ('MÉXICO', 'REFRESCO', 194939)]"
      ]
     },
     "execution_count": 134,
     "metadata": {},
     "output_type": "execute_result"
    }
   ],
   "source": [
    "#C contiene la informacion de los productos mas monitoreados por entidad y \n",
    "#el conteo de los registros que se tiene de ellos\n",
    "C"
   ]
  },
  {
   "cell_type": "markdown",
   "metadata": {},
   "source": [
    "# Variedad de productos por cadena comercial"
   ]
  },
  {
   "cell_type": "code",
   "execution_count": 135,
   "metadata": {},
   "outputs": [],
   "source": [
    "#variedad de productos por cadena comercial\n",
    "cadenas_comerciales = QQP.groupBy(\"cadenaComercial\", \"producto\").count()"
   ]
  },
  {
   "cell_type": "code",
   "execution_count": 136,
   "metadata": {},
   "outputs": [
    {
     "data": {
      "text/plain": [
       "[Row(cadenaComercial='I.S.S.S.T.E.', producto='MOLE ROJO EN PASTA', count=6090),\n",
       " Row(cadenaComercial='WAL-MART', producto='PAN DE CAJA', count=66623)]"
      ]
     },
     "execution_count": 136,
     "metadata": {},
     "output_type": "execute_result"
    }
   ],
   "source": [
    "cadenas_comerciales.head(2)"
   ]
  },
  {
   "cell_type": "code",
   "execution_count": 142,
   "metadata": {},
   "outputs": [
    {
     "name": "stdout",
     "output_type": "stream",
     "text": [
      "root\n",
      " |-- cadenaComercial: string (nullable = true)\n",
      " |-- producto: string (nullable = true)\n",
      " |-- count: long (nullable = false)\n",
      "\n"
     ]
    }
   ],
   "source": [
    "cadenas_comerciales.printSchema()"
   ]
  },
  {
   "cell_type": "code",
   "execution_count": 138,
   "metadata": {},
   "outputs": [],
   "source": [
    "#conteos de la tabla anterior para conocer cuantos productos se monitorean por cadena comercial\n",
    "cadenas_comerciales_2 = cadenas_comerciales.groupBy('CadenaComercial').count() "
   ]
  },
  {
   "cell_type": "code",
   "execution_count": 139,
   "metadata": {
    "scrolled": true
   },
   "outputs": [
    {
     "data": {
      "text/plain": [
       "[Row(CadenaComercial='WOOLWORTH', count=95),\n",
       " Row(CadenaComercial='LIBRERIA DE SANCHO PANZA', count=31)]"
      ]
     },
     "execution_count": 139,
     "metadata": {},
     "output_type": "execute_result"
    }
   ],
   "source": [
    "cadenas_comerciales_2.head(2)"
   ]
  },
  {
   "cell_type": "code",
   "execution_count": 149,
   "metadata": {},
   "outputs": [],
   "source": [
    "#Ordenamos las cadenas de forma descendente y así encontraremos las que tienen más productos monitoreados en la \n",
    "#primel fila de nuestro DataFrame\n",
    "cadenas_comerciales_2 = cadenas_comerciales_2.orderBy(\"count\", ascending=False)"
   ]
  },
  {
   "cell_type": "code",
   "execution_count": 150,
   "metadata": {},
   "outputs": [
    {
     "data": {
      "text/plain": [
       "[Row(CadenaComercial='SORIANA', count=1059),\n",
       " Row(CadenaComercial='WAL-MART', count=1051),\n",
       " Row(CadenaComercial='MEGA COMERCIAL MEXICANA', count=1049),\n",
       " Row(CadenaComercial='COMERCIAL MEXICANA', count=1036),\n",
       " Row(CadenaComercial='CHEDRAUI', count=1026)]"
      ]
     },
     "execution_count": 150,
     "metadata": {},
     "output_type": "execute_result"
    }
   ],
   "source": [
    "#Las 5 cadenas comerciales con más productos monitoreados\n",
    "cadenas_comerciales_2.head(5)"
   ]
  },
  {
   "cell_type": "markdown",
   "metadata": {},
   "source": [
    "# Canasta básica"
   ]
  },
  {
   "cell_type": "code",
   "execution_count": 153,
   "metadata": {},
   "outputs": [
    {
     "data": {
      "text/plain": [
       "[Row(producto='CUADERNO FORMA ITALIANA', presentacion='96 HOJAS PASTA DURA. CUADRICULA CHICA', marca='ESTRELLA', categoria='MATERIAL ESCOLAR', catalogo='UTILES ESCOLARES', precio='25.9', fechaRegistro='2011-05-18 00:00:00.000', cadenaComercial='ABASTECEDORA LUMEN', giro='PAPELERIAS', nombreComercial='ABASTECEDORA LUMEN SUCURSAL VILLA COAPA', direccion='CANNES No. 6 ESQ. CANAL DE MIRAMONTES', estado='DISTRITO FEDERAL', municipio='TLALPAN                                 ', latitud='19.29699', longitud='-99.125417'),\n",
       " Row(producto='CRAYONES', presentacion='CAJA 12 CERAS. JUMBO. C.B. 201423', marca='CRAYOLA', categoria='MATERIAL ESCOLAR', catalogo='UTILES ESCOLARES', precio='27.5', fechaRegistro='2011-05-18 00:00:00.000', cadenaComercial='ABASTECEDORA LUMEN', giro='PAPELERIAS', nombreComercial='ABASTECEDORA LUMEN SUCURSAL VILLA COAPA', direccion='CANNES No. 6 ESQ. CANAL DE MIRAMONTES', estado='DISTRITO FEDERAL', municipio='TLALPAN                                 ', latitud='19.29699', longitud='-99.125417')]"
      ]
     },
     "execution_count": 153,
     "metadata": {},
     "output_type": "execute_result"
    }
   ],
   "source": [
    "QQP.head(2)"
   ]
  },
  {
   "cell_type": "code",
   "execution_count": 156,
   "metadata": {},
   "outputs": [
    {
     "name": "stdout",
     "output_type": "stream",
     "text": [
      "+--------------------+\n",
      "|            catalogo|\n",
      "+--------------------+\n",
      "|             BASICOS|\n",
      "|            MERCADOS|\n",
      "|                null|\n",
      "|    UTILES ESCOLARES|\n",
      "|   ELECTRODOMESTICOS|\n",
      "|            catalogo|\n",
      "|           NAVIDEÑOS|\n",
      "|REGIONALES MONTERREY|\n",
      "|            JUGUETES|\n",
      "|               TENIS|\n",
      "|        MEDICAMENTOS|\n",
      "| PESCADOS Y MARISCOS|\n",
      "|  FRUTAS Y LEGUMBRES|\n",
      "+--------------------+\n",
      "\n"
     ]
    }
   ],
   "source": [
    "QQP.select('catalogo').distinct().show()"
   ]
  },
  {
   "cell_type": "markdown",
   "metadata": {},
   "source": [
    "###### Para la creación de la canasta básica iba a considerar  los prouctos contenidos en el catalogo BASICOS. Para hacer la comparativa se puede realizar un dashboard que permita seleccionar algún producto de la canasta básica y una fecha, que incluya un mapa donde indique el precio de dicho producto en cada estado (una opcion es estimar el precio del producto por estado calculando un promedio de todos los precios que caen en el). También se puede colorear el precio para indicar si es alto o bajo y de esta manera poder identificar las ciudades más caras. Dado que no estoy por completo familiarizada con SparkSQL me estaba resultando muy lento el proceso de la creación de este dashboard. "
   ]
  },
  {
   "cell_type": "code",
   "execution_count": null,
   "metadata": {},
   "outputs": [],
   "source": []
  }
 ],
 "metadata": {
  "kernelspec": {
   "display_name": "Python 3",
   "language": "python",
   "name": "python3"
  },
  "language_info": {
   "codemirror_mode": {
    "name": "ipython",
    "version": 3
   },
   "file_extension": ".py",
   "mimetype": "text/x-python",
   "name": "python",
   "nbconvert_exporter": "python",
   "pygments_lexer": "ipython3",
   "version": "3.6.5"
  }
 },
 "nbformat": 4,
 "nbformat_minor": 2
}
